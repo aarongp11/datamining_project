{
 "cells": [
  {
   "cell_type": "code",
   "execution_count": 1,
   "metadata": {},
   "outputs": [],
   "source": [
    "import pandas as pd\n",
    "import numpy as np\n",
    "import seaborn as sns\n",
    "import time\n",
    "import datetime\n",
    "from matplotlib import pyplot as plt\n",
    "from sklearn.preprocessing import StandardScaler\n",
    "#from mlxtend.frequent_patterns import apriori, association_rules"
   ]
  },
  {
   "cell_type": "code",
   "execution_count": 2,
   "metadata": {},
   "outputs": [],
   "source": [
    "import numpy as np\n",
    "import pandas as pd\n",
    "\n",
    "#models\n",
    "from sklearn. neighbors import KNeighborsClassifier\n",
    "from sklearn.naive_bayes import GaussianNB\n",
    "from sklearn.tree import DecisionTreeClassifier\n",
    "\n",
    "from sklearn.svm import SVC\n",
    "from sklearn.pipeline import make_pipeline\n",
    "from sklearn.preprocessing import StandardScaler\n",
    "\n",
    "#for CV\n",
    "from sklearn.model_selection import train_test_split, RandomizedSearchCV, GridSearchCV #CV?\n",
    "\n",
    "from sklearn.metrics import classification_report, confusion_matrix, ConfusionMatrixDisplay"
   ]
  },
  {
   "cell_type": "markdown",
   "metadata": {},
   "source": [
    "Load the data"
   ]
  },
  {
   "cell_type": "code",
   "execution_count": 3,
   "metadata": {},
   "outputs": [
    {
     "data": {
      "text/html": [
       "<div>\n",
       "<style scoped>\n",
       "    .dataframe tbody tr th:only-of-type {\n",
       "        vertical-align: middle;\n",
       "    }\n",
       "\n",
       "    .dataframe tbody tr th {\n",
       "        vertical-align: top;\n",
       "    }\n",
       "\n",
       "    .dataframe thead th {\n",
       "        text-align: right;\n",
       "    }\n",
       "</style>\n",
       "<table border=\"1\" class=\"dataframe\">\n",
       "  <thead>\n",
       "    <tr style=\"text-align: right;\">\n",
       "      <th></th>\n",
       "      <th>Start</th>\n",
       "      <th>End</th>\n",
       "      <th>Sleep quality</th>\n",
       "      <th>Time in bed</th>\n",
       "      <th>Wake up</th>\n",
       "      <th>Sleep Notes</th>\n",
       "      <th>Heart rate</th>\n",
       "      <th>Activity (steps)</th>\n",
       "    </tr>\n",
       "  </thead>\n",
       "  <tbody>\n",
       "    <tr>\n",
       "      <th>0</th>\n",
       "      <td>2014-12-29 22:57:49</td>\n",
       "      <td>2014-12-30 07:30:13</td>\n",
       "      <td>100%</td>\n",
       "      <td>8:32</td>\n",
       "      <td>:)</td>\n",
       "      <td>NaN</td>\n",
       "      <td>59.0</td>\n",
       "      <td>0</td>\n",
       "    </tr>\n",
       "    <tr>\n",
       "      <th>1</th>\n",
       "      <td>2014-12-30 21:17:50</td>\n",
       "      <td>2014-12-30 21:33:54</td>\n",
       "      <td>3%</td>\n",
       "      <td>0:16</td>\n",
       "      <td>:|</td>\n",
       "      <td>Stressful day</td>\n",
       "      <td>72.0</td>\n",
       "      <td>0</td>\n",
       "    </tr>\n",
       "    <tr>\n",
       "      <th>2</th>\n",
       "      <td>2014-12-30 22:42:49</td>\n",
       "      <td>2014-12-31 07:13:31</td>\n",
       "      <td>98%</td>\n",
       "      <td>8:30</td>\n",
       "      <td>:|</td>\n",
       "      <td>NaN</td>\n",
       "      <td>57.0</td>\n",
       "      <td>0</td>\n",
       "    </tr>\n",
       "    <tr>\n",
       "      <th>3</th>\n",
       "      <td>2014-12-31 22:31:01</td>\n",
       "      <td>2015-01-01 06:03:01</td>\n",
       "      <td>65%</td>\n",
       "      <td>7:32</td>\n",
       "      <td>NaN</td>\n",
       "      <td>NaN</td>\n",
       "      <td>NaN</td>\n",
       "      <td>0</td>\n",
       "    </tr>\n",
       "    <tr>\n",
       "      <th>4</th>\n",
       "      <td>2015-01-01 22:12:10</td>\n",
       "      <td>2015-01-02 04:56:35</td>\n",
       "      <td>72%</td>\n",
       "      <td>6:44</td>\n",
       "      <td>:)</td>\n",
       "      <td>Drank coffee:Drank tea</td>\n",
       "      <td>68.0</td>\n",
       "      <td>0</td>\n",
       "    </tr>\n",
       "    <tr>\n",
       "      <th>...</th>\n",
       "      <td>...</td>\n",
       "      <td>...</td>\n",
       "      <td>...</td>\n",
       "      <td>...</td>\n",
       "      <td>...</td>\n",
       "      <td>...</td>\n",
       "      <td>...</td>\n",
       "      <td>...</td>\n",
       "    </tr>\n",
       "    <tr>\n",
       "      <th>882</th>\n",
       "      <td>2018-02-12 21:54:14</td>\n",
       "      <td>2018-02-13 07:02:15</td>\n",
       "      <td>91%</td>\n",
       "      <td>9:08</td>\n",
       "      <td>NaN</td>\n",
       "      <td>NaN</td>\n",
       "      <td>NaN</td>\n",
       "      <td>56</td>\n",
       "    </tr>\n",
       "    <tr>\n",
       "      <th>883</th>\n",
       "      <td>2018-02-13 23:49:19</td>\n",
       "      <td>2018-02-14 07:00:53</td>\n",
       "      <td>81%</td>\n",
       "      <td>7:11</td>\n",
       "      <td>NaN</td>\n",
       "      <td>NaN</td>\n",
       "      <td>NaN</td>\n",
       "      <td>64</td>\n",
       "    </tr>\n",
       "    <tr>\n",
       "      <th>884</th>\n",
       "      <td>2018-02-14 21:24:05</td>\n",
       "      <td>2018-02-15 06:20:52</td>\n",
       "      <td>71%</td>\n",
       "      <td>8:56</td>\n",
       "      <td>NaN</td>\n",
       "      <td>NaN</td>\n",
       "      <td>NaN</td>\n",
       "      <td>3316</td>\n",
       "    </tr>\n",
       "    <tr>\n",
       "      <th>885</th>\n",
       "      <td>2018-02-15 21:36:32</td>\n",
       "      <td>2018-02-16 06:50:31</td>\n",
       "      <td>80%</td>\n",
       "      <td>9:13</td>\n",
       "      <td>NaN</td>\n",
       "      <td>NaN</td>\n",
       "      <td>NaN</td>\n",
       "      <td>6555</td>\n",
       "    </tr>\n",
       "    <tr>\n",
       "      <th>886</th>\n",
       "      <td>2018-02-16 22:52:29</td>\n",
       "      <td>2018-02-17 07:48:04</td>\n",
       "      <td>91%</td>\n",
       "      <td>8:55</td>\n",
       "      <td>NaN</td>\n",
       "      <td>NaN</td>\n",
       "      <td>NaN</td>\n",
       "      <td>2291</td>\n",
       "    </tr>\n",
       "  </tbody>\n",
       "</table>\n",
       "<p>887 rows × 8 columns</p>\n",
       "</div>"
      ],
      "text/plain": [
       "                   Start                  End Sleep quality Time in bed  \\\n",
       "0    2014-12-29 22:57:49  2014-12-30 07:30:13          100%        8:32   \n",
       "1    2014-12-30 21:17:50  2014-12-30 21:33:54            3%        0:16   \n",
       "2    2014-12-30 22:42:49  2014-12-31 07:13:31           98%        8:30   \n",
       "3    2014-12-31 22:31:01  2015-01-01 06:03:01           65%        7:32   \n",
       "4    2015-01-01 22:12:10  2015-01-02 04:56:35           72%        6:44   \n",
       "..                   ...                  ...           ...         ...   \n",
       "882  2018-02-12 21:54:14  2018-02-13 07:02:15           91%        9:08   \n",
       "883  2018-02-13 23:49:19  2018-02-14 07:00:53           81%        7:11   \n",
       "884  2018-02-14 21:24:05  2018-02-15 06:20:52           71%        8:56   \n",
       "885  2018-02-15 21:36:32  2018-02-16 06:50:31           80%        9:13   \n",
       "886  2018-02-16 22:52:29  2018-02-17 07:48:04           91%        8:55   \n",
       "\n",
       "    Wake up             Sleep Notes  Heart rate  Activity (steps)  \n",
       "0        :)                     NaN        59.0                 0  \n",
       "1        :|           Stressful day        72.0                 0  \n",
       "2        :|                     NaN        57.0                 0  \n",
       "3       NaN                     NaN         NaN                 0  \n",
       "4        :)  Drank coffee:Drank tea        68.0                 0  \n",
       "..      ...                     ...         ...               ...  \n",
       "882     NaN                     NaN         NaN                56  \n",
       "883     NaN                     NaN         NaN                64  \n",
       "884     NaN                     NaN         NaN              3316  \n",
       "885     NaN                     NaN         NaN              6555  \n",
       "886     NaN                     NaN         NaN              2291  \n",
       "\n",
       "[887 rows x 8 columns]"
      ]
     },
     "execution_count": 3,
     "metadata": {},
     "output_type": "execute_result"
    }
   ],
   "source": [
    "df = pd.read_csv('./data/sleepdata.csv',delimiter=\";\")\n",
    "df"
   ]
  },
  {
   "cell_type": "markdown",
   "metadata": {},
   "source": [
    "We display the  data"
   ]
  },
  {
   "cell_type": "code",
   "execution_count": 4,
   "metadata": {},
   "outputs": [
    {
     "name": "stdout",
     "output_type": "stream",
     "text": [
      "<class 'pandas.core.frame.DataFrame'>\n",
      "RangeIndex: 887 entries, 0 to 886\n",
      "Data columns (total 8 columns):\n",
      " #   Column            Non-Null Count  Dtype  \n",
      "---  ------            --------------  -----  \n",
      " 0   Start             887 non-null    object \n",
      " 1   End               887 non-null    object \n",
      " 2   Sleep quality     887 non-null    object \n",
      " 3   Time in bed       887 non-null    object \n",
      " 4   Wake up           246 non-null    object \n",
      " 5   Sleep Notes       652 non-null    object \n",
      " 6   Heart rate        162 non-null    float64\n",
      " 7   Activity (steps)  887 non-null    int64  \n",
      "dtypes: float64(1), int64(1), object(6)\n",
      "memory usage: 55.6+ KB\n"
     ]
    }
   ],
   "source": [
    "df.info()"
   ]
  },
  {
   "cell_type": "code",
   "execution_count": 5,
   "metadata": {},
   "outputs": [
    {
     "data": {
      "text/plain": [
       "[Text(0.5, 1.0, 'Values of the dataset that are null')]"
      ]
     },
     "execution_count": 5,
     "metadata": {},
     "output_type": "execute_result"
    },
    {
     "data": {
      "image/png": "[encoded data removed]",
      "text/plain": [
       "<Figure size 432x288 with 1 Axes>"
      ]
     },
     "metadata": {
      "needs_background": "light"
     },
     "output_type": "display_data"
    }
   ],
   "source": [
    "sns.heatmap(df.isnull(),yticklabels=False,cbar=False).set(title='Values of the dataset that are null')"
   ]
  },
  {
   "cell_type": "markdown",
   "metadata": {},
   "source": [
    "As we can see in the graph the columns \"heart rate\" and \"Wake up\" are mostly null. However, the wake up column is not important for predicting the result of sleep quality. Because the mood when you wake up is a consequence of the sleep quality and not the opposite and the heart rate is 86% null values so it is not possible to extract information from that column."
   ]
  },
  {
   "cell_type": "code",
   "execution_count": 6,
   "metadata": {},
   "outputs": [],
   "source": [
    "#Drop the columns 'Wake up' and 'Heart rate'\n",
    "df_cleaned=df.drop(columns=['Wake up','Heart rate'])"
   ]
  },
  {
   "cell_type": "markdown",
   "metadata": {},
   "source": [
    "Another colum with lots of nulls is the column sleep notes but in this case null means that there are no extra notes for that nigth."
   ]
  },
  {
   "cell_type": "code",
   "execution_count": 7,
   "metadata": {},
   "outputs": [],
   "source": [
    "df_cleaned['Sleep Notes'].fillna(value = '', inplace = True)"
   ]
  },
  {
   "cell_type": "code",
   "execution_count": 8,
   "metadata": {},
   "outputs": [
    {
     "data": {
      "text/plain": [
       "[Text(0.5, 1.0, 'Values of the dataset that are null')]"
      ]
     },
     "execution_count": 8,
     "metadata": {},
     "output_type": "execute_result"
    },
    {
     "data": {
      "image/png": "[encoded data removed]",
      "text/plain": [
       "<Figure size 432x288 with 1 Axes>"
      ]
     },
     "metadata": {
      "needs_background": "light"
     },
     "output_type": "display_data"
    }
   ],
   "source": [
    "sns.heatmap(df_cleaned.isnull(),yticklabels=False,cbar=False).set(title='Values of the dataset that are null')"
   ]
  },
  {
   "cell_type": "markdown",
   "metadata": {},
   "source": [
    "Transforming the 'Start' and 'End' columns to datetime type and the 'Time in bed' to seconds."
   ]
  },
  {
   "cell_type": "code",
   "execution_count": 9,
   "metadata": {},
   "outputs": [],
   "source": [
    "df_cleaned['Start'] = pd.to_datetime(df_cleaned['Start'])\n",
    "df_cleaned['End'] = pd.to_datetime(df_cleaned['End'])\n",
    "df_cleaned['Time in bed'] = (df_cleaned['End'] - df_cleaned['Start']).astype('timedelta64[s]')\n",
    "df_cleaned['Sleep quality'] = df_cleaned['Sleep quality'].apply(lambda x: np.nan if x in ['-'] else x[:-1]).astype(int)\n",
    "df_cleaned['Start time'] = pd.Series([val.time() for val in df_cleaned['Start']])\n",
    "df_cleaned['End time'] = pd.Series([val.time() for val in df_cleaned['End']])\n",
    "df_cleaned['Start time in second'] = df_cleaned['Start'].apply(lambda x: (x.hour*60+x.minute)*60 + x.second)\n",
    "df_cleaned['End time in second'] = df_cleaned['End'].apply(lambda x: (x.hour*60+x.minute)*60 + x.second)"
   ]
  },
  {
   "cell_type": "code",
   "execution_count": 10,
   "metadata": {},
   "outputs": [
    {
     "data": {
      "text/html": [
       "<div>\n",
       "<style scoped>\n",
       "    .dataframe tbody tr th:only-of-type {\n",
       "        vertical-align: middle;\n",
       "    }\n",
       "\n",
       "    .dataframe tbody tr th {\n",
       "        vertical-align: top;\n",
       "    }\n",
       "\n",
       "    .dataframe thead th {\n",
       "        text-align: right;\n",
       "    }\n",
       "</style>\n",
       "<table border=\"1\" class=\"dataframe\">\n",
       "  <thead>\n",
       "    <tr style=\"text-align: right;\">\n",
       "      <th></th>\n",
       "      <th>Start</th>\n",
       "      <th>End</th>\n",
       "      <th>Sleep quality</th>\n",
       "      <th>Time in bed</th>\n",
       "      <th>Sleep Notes</th>\n",
       "      <th>Activity (steps)</th>\n",
       "      <th>Start time</th>\n",
       "      <th>End time</th>\n",
       "      <th>Start time in second</th>\n",
       "      <th>End time in second</th>\n",
       "    </tr>\n",
       "  </thead>\n",
       "  <tbody>\n",
       "    <tr>\n",
       "      <th>0</th>\n",
       "      <td>2014-12-29 22:57:49</td>\n",
       "      <td>2014-12-30 07:30:13</td>\n",
       "      <td>100</td>\n",
       "      <td>30744.0</td>\n",
       "      <td></td>\n",
       "      <td>0</td>\n",
       "      <td>22:57:49</td>\n",
       "      <td>07:30:13</td>\n",
       "      <td>82669</td>\n",
       "      <td>27013</td>\n",
       "    </tr>\n",
       "    <tr>\n",
       "      <th>1</th>\n",
       "      <td>2014-12-30 21:17:50</td>\n",
       "      <td>2014-12-30 21:33:54</td>\n",
       "      <td>3</td>\n",
       "      <td>964.0</td>\n",
       "      <td>Stressful day</td>\n",
       "      <td>0</td>\n",
       "      <td>21:17:50</td>\n",
       "      <td>21:33:54</td>\n",
       "      <td>76670</td>\n",
       "      <td>77634</td>\n",
       "    </tr>\n",
       "    <tr>\n",
       "      <th>2</th>\n",
       "      <td>2014-12-30 22:42:49</td>\n",
       "      <td>2014-12-31 07:13:31</td>\n",
       "      <td>98</td>\n",
       "      <td>30642.0</td>\n",
       "      <td></td>\n",
       "      <td>0</td>\n",
       "      <td>22:42:49</td>\n",
       "      <td>07:13:31</td>\n",
       "      <td>81769</td>\n",
       "      <td>26011</td>\n",
       "    </tr>\n",
       "    <tr>\n",
       "      <th>3</th>\n",
       "      <td>2014-12-31 22:31:01</td>\n",
       "      <td>2015-01-01 06:03:01</td>\n",
       "      <td>65</td>\n",
       "      <td>27120.0</td>\n",
       "      <td></td>\n",
       "      <td>0</td>\n",
       "      <td>22:31:01</td>\n",
       "      <td>06:03:01</td>\n",
       "      <td>81061</td>\n",
       "      <td>21781</td>\n",
       "    </tr>\n",
       "    <tr>\n",
       "      <th>4</th>\n",
       "      <td>2015-01-01 22:12:10</td>\n",
       "      <td>2015-01-02 04:56:35</td>\n",
       "      <td>72</td>\n",
       "      <td>24265.0</td>\n",
       "      <td>Drank coffee:Drank tea</td>\n",
       "      <td>0</td>\n",
       "      <td>22:12:10</td>\n",
       "      <td>04:56:35</td>\n",
       "      <td>79930</td>\n",
       "      <td>17795</td>\n",
       "    </tr>\n",
       "    <tr>\n",
       "      <th>...</th>\n",
       "      <td>...</td>\n",
       "      <td>...</td>\n",
       "      <td>...</td>\n",
       "      <td>...</td>\n",
       "      <td>...</td>\n",
       "      <td>...</td>\n",
       "      <td>...</td>\n",
       "      <td>...</td>\n",
       "      <td>...</td>\n",
       "      <td>...</td>\n",
       "    </tr>\n",
       "    <tr>\n",
       "      <th>882</th>\n",
       "      <td>2018-02-12 21:54:14</td>\n",
       "      <td>2018-02-13 07:02:15</td>\n",
       "      <td>91</td>\n",
       "      <td>32881.0</td>\n",
       "      <td></td>\n",
       "      <td>56</td>\n",
       "      <td>21:54:14</td>\n",
       "      <td>07:02:15</td>\n",
       "      <td>78854</td>\n",
       "      <td>25335</td>\n",
       "    </tr>\n",
       "    <tr>\n",
       "      <th>883</th>\n",
       "      <td>2018-02-13 23:49:19</td>\n",
       "      <td>2018-02-14 07:00:53</td>\n",
       "      <td>81</td>\n",
       "      <td>25894.0</td>\n",
       "      <td></td>\n",
       "      <td>64</td>\n",
       "      <td>23:49:19</td>\n",
       "      <td>07:00:53</td>\n",
       "      <td>85759</td>\n",
       "      <td>25253</td>\n",
       "    </tr>\n",
       "    <tr>\n",
       "      <th>884</th>\n",
       "      <td>2018-02-14 21:24:05</td>\n",
       "      <td>2018-02-15 06:20:52</td>\n",
       "      <td>71</td>\n",
       "      <td>32207.0</td>\n",
       "      <td></td>\n",
       "      <td>3316</td>\n",
       "      <td>21:24:05</td>\n",
       "      <td>06:20:52</td>\n",
       "      <td>77045</td>\n",
       "      <td>22852</td>\n",
       "    </tr>\n",
       "    <tr>\n",
       "      <th>885</th>\n",
       "      <td>2018-02-15 21:36:32</td>\n",
       "      <td>2018-02-16 06:50:31</td>\n",
       "      <td>80</td>\n",
       "      <td>33239.0</td>\n",
       "      <td></td>\n",
       "      <td>6555</td>\n",
       "      <td>21:36:32</td>\n",
       "      <td>06:50:31</td>\n",
       "      <td>77792</td>\n",
       "      <td>24631</td>\n",
       "    </tr>\n",
       "    <tr>\n",
       "      <th>886</th>\n",
       "      <td>2018-02-16 22:52:29</td>\n",
       "      <td>2018-02-17 07:48:04</td>\n",
       "      <td>91</td>\n",
       "      <td>32135.0</td>\n",
       "      <td></td>\n",
       "      <td>2291</td>\n",
       "      <td>22:52:29</td>\n",
       "      <td>07:48:04</td>\n",
       "      <td>82349</td>\n",
       "      <td>28084</td>\n",
       "    </tr>\n",
       "  </tbody>\n",
       "</table>\n",
       "<p>887 rows × 10 columns</p>\n",
       "</div>"
      ],
      "text/plain": [
       "                  Start                 End  Sleep quality  Time in bed  \\\n",
       "0   2014-12-29 22:57:49 2014-12-30 07:30:13            100      30744.0   \n",
       "1   2014-12-30 21:17:50 2014-12-30 21:33:54              3        964.0   \n",
       "2   2014-12-30 22:42:49 2014-12-31 07:13:31             98      30642.0   \n",
       "3   2014-12-31 22:31:01 2015-01-01 06:03:01             65      27120.0   \n",
       "4   2015-01-01 22:12:10 2015-01-02 04:56:35             72      24265.0   \n",
       "..                  ...                 ...            ...          ...   \n",
       "882 2018-02-12 21:54:14 2018-02-13 07:02:15             91      32881.0   \n",
       "883 2018-02-13 23:49:19 2018-02-14 07:00:53             81      25894.0   \n",
       "884 2018-02-14 21:24:05 2018-02-15 06:20:52             71      32207.0   \n",
       "885 2018-02-15 21:36:32 2018-02-16 06:50:31             80      33239.0   \n",
       "886 2018-02-16 22:52:29 2018-02-17 07:48:04             91      32135.0   \n",
       "\n",
       "                Sleep Notes  Activity (steps) Start time  End time  \\\n",
       "0                                           0   22:57:49  07:30:13   \n",
       "1             Stressful day                 0   21:17:50  21:33:54   \n",
       "2                                           0   22:42:49  07:13:31   \n",
       "3                                           0   22:31:01  06:03:01   \n",
       "4    Drank coffee:Drank tea                 0   22:12:10  04:56:35   \n",
       "..                      ...               ...        ...       ...   \n",
       "882                                        56   21:54:14  07:02:15   \n",
       "883                                        64   23:49:19  07:00:53   \n",
       "884                                      3316   21:24:05  06:20:52   \n",
       "885                                      6555   21:36:32  06:50:31   \n",
       "886                                      2291   22:52:29  07:48:04   \n",
       "\n",
       "     Start time in second  End time in second  \n",
       "0                   82669               27013  \n",
       "1                   76670               77634  \n",
       "2                   81769               26011  \n",
       "3                   81061               21781  \n",
       "4                   79930               17795  \n",
       "..                    ...                 ...  \n",
       "882                 78854               25335  \n",
       "883                 85759               25253  \n",
       "884                 77045               22852  \n",
       "885                 77792               24631  \n",
       "886                 82349               28084  \n",
       "\n",
       "[887 rows x 10 columns]"
      ]
     },
     "execution_count": 10,
     "metadata": {},
     "output_type": "execute_result"
    }
   ],
   "source": [
    "df_cleaned"
   ]
  },
  {
   "cell_type": "code",
   "execution_count": 11,
   "metadata": {},
   "outputs": [
    {
     "name": "stdout",
     "output_type": "stream",
     "text": [
      "All the different values for the Sleep notes: ['Ate late' 'Drank coffee' 'Drank tea' 'Stressful day' 'Worked out']\n"
     ]
    }
   ],
   "source": [
    "sleep_notes_values=np.unique(df_cleaned['Sleep Notes'].apply(lambda x: x.split(':')).sum())\n",
    "sleep_notes_values=sleep_notes_values[1:]\n",
    "print(\"All the different values for the Sleep notes: \"+str(sleep_notes_values))"
   ]
  },
  {
   "cell_type": "markdown",
   "metadata": {},
   "source": [
    "Transform the categorical of 'Sleep notes' into dummy/indicator variables."
   ]
  },
  {
   "cell_type": "code",
   "execution_count": 12,
   "metadata": {},
   "outputs": [],
   "source": [
    "for v in sleep_notes_values:\n",
    "    df_cleaned[v] = df_cleaned['Sleep Notes'].apply(lambda x: v in x).astype(int)"
   ]
  },
  {
   "cell_type": "code",
   "execution_count": 13,
   "metadata": {},
   "outputs": [
    {
     "data": {
      "text/html": [
       "<div>\n",
       "<style scoped>\n",
       "    .dataframe tbody tr th:only-of-type {\n",
       "        vertical-align: middle;\n",
       "    }\n",
       "\n",
       "    .dataframe tbody tr th {\n",
       "        vertical-align: top;\n",
       "    }\n",
       "\n",
       "    .dataframe thead th {\n",
       "        text-align: right;\n",
       "    }\n",
       "</style>\n",
       "<table border=\"1\" class=\"dataframe\">\n",
       "  <thead>\n",
       "    <tr style=\"text-align: right;\">\n",
       "      <th></th>\n",
       "      <th>Start</th>\n",
       "      <th>End</th>\n",
       "      <th>Sleep quality</th>\n",
       "      <th>Time in bed</th>\n",
       "      <th>Sleep Notes</th>\n",
       "      <th>Activity (steps)</th>\n",
       "      <th>Start time</th>\n",
       "      <th>End time</th>\n",
       "      <th>Start time in second</th>\n",
       "      <th>End time in second</th>\n",
       "      <th>Ate late</th>\n",
       "      <th>Drank coffee</th>\n",
       "      <th>Drank tea</th>\n",
       "      <th>Stressful day</th>\n",
       "      <th>Worked out</th>\n",
       "    </tr>\n",
       "  </thead>\n",
       "  <tbody>\n",
       "    <tr>\n",
       "      <th>0</th>\n",
       "      <td>2014-12-29 22:57:49</td>\n",
       "      <td>2014-12-30 07:30:13</td>\n",
       "      <td>100</td>\n",
       "      <td>30744.0</td>\n",
       "      <td></td>\n",
       "      <td>0</td>\n",
       "      <td>22:57:49</td>\n",
       "      <td>07:30:13</td>\n",
       "      <td>82669</td>\n",
       "      <td>27013</td>\n",
       "      <td>0</td>\n",
       "      <td>0</td>\n",
       "      <td>0</td>\n",
       "      <td>0</td>\n",
       "      <td>0</td>\n",
       "    </tr>\n",
       "    <tr>\n",
       "      <th>1</th>\n",
       "      <td>2014-12-30 21:17:50</td>\n",
       "      <td>2014-12-30 21:33:54</td>\n",
       "      <td>3</td>\n",
       "      <td>964.0</td>\n",
       "      <td>Stressful day</td>\n",
       "      <td>0</td>\n",
       "      <td>21:17:50</td>\n",
       "      <td>21:33:54</td>\n",
       "      <td>76670</td>\n",
       "      <td>77634</td>\n",
       "      <td>0</td>\n",
       "      <td>0</td>\n",
       "      <td>0</td>\n",
       "      <td>1</td>\n",
       "      <td>0</td>\n",
       "    </tr>\n",
       "    <tr>\n",
       "      <th>2</th>\n",
       "      <td>2014-12-30 22:42:49</td>\n",
       "      <td>2014-12-31 07:13:31</td>\n",
       "      <td>98</td>\n",
       "      <td>30642.0</td>\n",
       "      <td></td>\n",
       "      <td>0</td>\n",
       "      <td>22:42:49</td>\n",
       "      <td>07:13:31</td>\n",
       "      <td>81769</td>\n",
       "      <td>26011</td>\n",
       "      <td>0</td>\n",
       "      <td>0</td>\n",
       "      <td>0</td>\n",
       "      <td>0</td>\n",
       "      <td>0</td>\n",
       "    </tr>\n",
       "    <tr>\n",
       "      <th>3</th>\n",
       "      <td>2014-12-31 22:31:01</td>\n",
       "      <td>2015-01-01 06:03:01</td>\n",
       "      <td>65</td>\n",
       "      <td>27120.0</td>\n",
       "      <td></td>\n",
       "      <td>0</td>\n",
       "      <td>22:31:01</td>\n",
       "      <td>06:03:01</td>\n",
       "      <td>81061</td>\n",
       "      <td>21781</td>\n",
       "      <td>0</td>\n",
       "      <td>0</td>\n",
       "      <td>0</td>\n",
       "      <td>0</td>\n",
       "      <td>0</td>\n",
       "    </tr>\n",
       "    <tr>\n",
       "      <th>4</th>\n",
       "      <td>2015-01-01 22:12:10</td>\n",
       "      <td>2015-01-02 04:56:35</td>\n",
       "      <td>72</td>\n",
       "      <td>24265.0</td>\n",
       "      <td>Drank coffee:Drank tea</td>\n",
       "      <td>0</td>\n",
       "      <td>22:12:10</td>\n",
       "      <td>04:56:35</td>\n",
       "      <td>79930</td>\n",
       "      <td>17795</td>\n",
       "      <td>0</td>\n",
       "      <td>1</td>\n",
       "      <td>1</td>\n",
       "      <td>0</td>\n",
       "      <td>0</td>\n",
       "    </tr>\n",
       "    <tr>\n",
       "      <th>...</th>\n",
       "      <td>...</td>\n",
       "      <td>...</td>\n",
       "      <td>...</td>\n",
       "      <td>...</td>\n",
       "      <td>...</td>\n",
       "      <td>...</td>\n",
       "      <td>...</td>\n",
       "      <td>...</td>\n",
       "      <td>...</td>\n",
       "      <td>...</td>\n",
       "      <td>...</td>\n",
       "      <td>...</td>\n",
       "      <td>...</td>\n",
       "      <td>...</td>\n",
       "      <td>...</td>\n",
       "    </tr>\n",
       "    <tr>\n",
       "      <th>882</th>\n",
       "      <td>2018-02-12 21:54:14</td>\n",
       "      <td>2018-02-13 07:02:15</td>\n",
       "      <td>91</td>\n",
       "      <td>32881.0</td>\n",
       "      <td></td>\n",
       "      <td>56</td>\n",
       "      <td>21:54:14</td>\n",
       "      <td>07:02:15</td>\n",
       "      <td>78854</td>\n",
       "      <td>25335</td>\n",
       "      <td>0</td>\n",
       "      <td>0</td>\n",
       "      <td>0</td>\n",
       "      <td>0</td>\n",
       "      <td>0</td>\n",
       "    </tr>\n",
       "    <tr>\n",
       "      <th>883</th>\n",
       "      <td>2018-02-13 23:49:19</td>\n",
       "      <td>2018-02-14 07:00:53</td>\n",
       "      <td>81</td>\n",
       "      <td>25894.0</td>\n",
       "      <td></td>\n",
       "      <td>64</td>\n",
       "      <td>23:49:19</td>\n",
       "      <td>07:00:53</td>\n",
       "      <td>85759</td>\n",
       "      <td>25253</td>\n",
       "      <td>0</td>\n",
       "      <td>0</td>\n",
       "      <td>0</td>\n",
       "      <td>0</td>\n",
       "      <td>0</td>\n",
       "    </tr>\n",
       "    <tr>\n",
       "      <th>884</th>\n",
       "      <td>2018-02-14 21:24:05</td>\n",
       "      <td>2018-02-15 06:20:52</td>\n",
       "      <td>71</td>\n",
       "      <td>32207.0</td>\n",
       "      <td></td>\n",
       "      <td>3316</td>\n",
       "      <td>21:24:05</td>\n",
       "      <td>06:20:52</td>\n",
       "      <td>77045</td>\n",
       "      <td>22852</td>\n",
       "      <td>0</td>\n",
       "      <td>0</td>\n",
       "      <td>0</td>\n",
       "      <td>0</td>\n",
       "      <td>0</td>\n",
       "    </tr>\n",
       "    <tr>\n",
       "      <th>885</th>\n",
       "      <td>2018-02-15 21:36:32</td>\n",
       "      <td>2018-02-16 06:50:31</td>\n",
       "      <td>80</td>\n",
       "      <td>33239.0</td>\n",
       "      <td></td>\n",
       "      <td>6555</td>\n",
       "      <td>21:36:32</td>\n",
       "      <td>06:50:31</td>\n",
       "      <td>77792</td>\n",
       "      <td>24631</td>\n",
       "      <td>0</td>\n",
       "      <td>0</td>\n",
       "      <td>0</td>\n",
       "      <td>0</td>\n",
       "      <td>0</td>\n",
       "    </tr>\n",
       "    <tr>\n",
       "      <th>886</th>\n",
       "      <td>2018-02-16 22:52:29</td>\n",
       "      <td>2018-02-17 07:48:04</td>\n",
       "      <td>91</td>\n",
       "      <td>32135.0</td>\n",
       "      <td></td>\n",
       "      <td>2291</td>\n",
       "      <td>22:52:29</td>\n",
       "      <td>07:48:04</td>\n",
       "      <td>82349</td>\n",
       "      <td>28084</td>\n",
       "      <td>0</td>\n",
       "      <td>0</td>\n",
       "      <td>0</td>\n",
       "      <td>0</td>\n",
       "      <td>0</td>\n",
       "    </tr>\n",
       "  </tbody>\n",
       "</table>\n",
       "<p>887 rows × 15 columns</p>\n",
       "</div>"
      ],
      "text/plain": [
       "                  Start                 End  Sleep quality  Time in bed  \\\n",
       "0   2014-12-29 22:57:49 2014-12-30 07:30:13            100      30744.0   \n",
       "1   2014-12-30 21:17:50 2014-12-30 21:33:54              3        964.0   \n",
       "2   2014-12-30 22:42:49 2014-12-31 07:13:31             98      30642.0   \n",
       "3   2014-12-31 22:31:01 2015-01-01 06:03:01             65      27120.0   \n",
       "4   2015-01-01 22:12:10 2015-01-02 04:56:35             72      24265.0   \n",
       "..                  ...                 ...            ...          ...   \n",
       "882 2018-02-12 21:54:14 2018-02-13 07:02:15             91      32881.0   \n",
       "883 2018-02-13 23:49:19 2018-02-14 07:00:53             81      25894.0   \n",
       "884 2018-02-14 21:24:05 2018-02-15 06:20:52             71      32207.0   \n",
       "885 2018-02-15 21:36:32 2018-02-16 06:50:31             80      33239.0   \n",
       "886 2018-02-16 22:52:29 2018-02-17 07:48:04             91      32135.0   \n",
       "\n",
       "                Sleep Notes  Activity (steps) Start time  End time  \\\n",
       "0                                           0   22:57:49  07:30:13   \n",
       "1             Stressful day                 0   21:17:50  21:33:54   \n",
       "2                                           0   22:42:49  07:13:31   \n",
       "3                                           0   22:31:01  06:03:01   \n",
       "4    Drank coffee:Drank tea                 0   22:12:10  04:56:35   \n",
       "..                      ...               ...        ...       ...   \n",
       "882                                        56   21:54:14  07:02:15   \n",
       "883                                        64   23:49:19  07:00:53   \n",
       "884                                      3316   21:24:05  06:20:52   \n",
       "885                                      6555   21:36:32  06:50:31   \n",
       "886                                      2291   22:52:29  07:48:04   \n",
       "\n",
       "     Start time in second  End time in second  Ate late  Drank coffee  \\\n",
       "0                   82669               27013         0             0   \n",
       "1                   76670               77634         0             0   \n",
       "2                   81769               26011         0             0   \n",
       "3                   81061               21781         0             0   \n",
       "4                   79930               17795         0             1   \n",
       "..                    ...                 ...       ...           ...   \n",
       "882                 78854               25335         0             0   \n",
       "883                 85759               25253         0             0   \n",
       "884                 77045               22852         0             0   \n",
       "885                 77792               24631         0             0   \n",
       "886                 82349               28084         0             0   \n",
       "\n",
       "     Drank tea  Stressful day  Worked out  \n",
       "0            0              0           0  \n",
       "1            0              1           0  \n",
       "2            0              0           0  \n",
       "3            0              0           0  \n",
       "4            1              0           0  \n",
       "..         ...            ...         ...  \n",
       "882          0              0           0  \n",
       "883          0              0           0  \n",
       "884          0              0           0  \n",
       "885          0              0           0  \n",
       "886          0              0           0  \n",
       "\n",
       "[887 rows x 15 columns]"
      ]
     },
     "execution_count": 13,
     "metadata": {},
     "output_type": "execute_result"
    }
   ],
   "source": [
    "df_cleaned"
   ]
  },
  {
   "cell_type": "code",
   "execution_count": 14,
   "metadata": {},
   "outputs": [
    {
     "data": {
      "text/html": [
       "<div>\n",
       "<style scoped>\n",
       "    .dataframe tbody tr th:only-of-type {\n",
       "        vertical-align: middle;\n",
       "    }\n",
       "\n",
       "    .dataframe tbody tr th {\n",
       "        vertical-align: top;\n",
       "    }\n",
       "\n",
       "    .dataframe thead th {\n",
       "        text-align: right;\n",
       "    }\n",
       "</style>\n",
       "<table border=\"1\" class=\"dataframe\">\n",
       "  <thead>\n",
       "    <tr style=\"text-align: right;\">\n",
       "      <th></th>\n",
       "      <th></th>\n",
       "      <th>Sleep quality</th>\n",
       "      <th>Time in bed</th>\n",
       "      <th>Worked out</th>\n",
       "      <th>Ate late</th>\n",
       "      <th>Stressful day</th>\n",
       "    </tr>\n",
       "    <tr>\n",
       "      <th>Drank tea</th>\n",
       "      <th>Drank coffee</th>\n",
       "      <th></th>\n",
       "      <th></th>\n",
       "      <th></th>\n",
       "      <th></th>\n",
       "      <th></th>\n",
       "    </tr>\n",
       "  </thead>\n",
       "  <tbody>\n",
       "    <tr>\n",
       "      <th rowspan=\"2\" valign=\"top\">0</th>\n",
       "      <th>0</th>\n",
       "      <td>70.527426</td>\n",
       "      <td>26425.966245</td>\n",
       "      <td>0.004219</td>\n",
       "      <td>0.000000</td>\n",
       "      <td>0.004219</td>\n",
       "    </tr>\n",
       "    <tr>\n",
       "      <th>1</th>\n",
       "      <td>74.850515</td>\n",
       "      <td>28125.417526</td>\n",
       "      <td>0.561856</td>\n",
       "      <td>0.025773</td>\n",
       "      <td>0.118557</td>\n",
       "    </tr>\n",
       "    <tr>\n",
       "      <th rowspan=\"2\" valign=\"top\">1</th>\n",
       "      <th>0</th>\n",
       "      <td>77.373016</td>\n",
       "      <td>28720.865079</td>\n",
       "      <td>0.531746</td>\n",
       "      <td>0.000000</td>\n",
       "      <td>0.047619</td>\n",
       "    </tr>\n",
       "    <tr>\n",
       "      <th>1</th>\n",
       "      <td>77.112121</td>\n",
       "      <td>27559.172727</td>\n",
       "      <td>0.566667</td>\n",
       "      <td>0.048485</td>\n",
       "      <td>0.084848</td>\n",
       "    </tr>\n",
       "  </tbody>\n",
       "</table>\n",
       "</div>"
      ],
      "text/plain": [
       "                        Sleep quality   Time in bed  Worked out  Ate late  \\\n",
       "Drank tea Drank coffee                                                      \n",
       "0         0                 70.527426  26425.966245    0.004219  0.000000   \n",
       "          1                 74.850515  28125.417526    0.561856  0.025773   \n",
       "1         0                 77.373016  28720.865079    0.531746  0.000000   \n",
       "          1                 77.112121  27559.172727    0.566667  0.048485   \n",
       "\n",
       "                        Stressful day  \n",
       "Drank tea Drank coffee                 \n",
       "0         0                  0.004219  \n",
       "          1                  0.118557  \n",
       "1         0                  0.047619  \n",
       "          1                  0.084848  "
      ]
     },
     "execution_count": 14,
     "metadata": {},
     "output_type": "execute_result"
    }
   ],
   "source": [
    "tc_df = df_cleaned[['Sleep quality', 'Time in bed', 'Drank tea', 'Drank coffee', 'Worked out', 'Ate late', 'Stressful day']].groupby(['Drank tea', 'Drank coffee']).mean()\n",
    "tc_df"
   ]
  },
  {
   "cell_type": "code",
   "execution_count": 15,
   "metadata": {},
   "outputs": [
    {
     "data": {
      "text/html": [
       "<div>\n",
       "<style scoped>\n",
       "    .dataframe tbody tr th:only-of-type {\n",
       "        vertical-align: middle;\n",
       "    }\n",
       "\n",
       "    .dataframe tbody tr th {\n",
       "        vertical-align: top;\n",
       "    }\n",
       "\n",
       "    .dataframe thead th {\n",
       "        text-align: right;\n",
       "    }\n",
       "</style>\n",
       "<table border=\"1\" class=\"dataframe\">\n",
       "  <thead>\n",
       "    <tr style=\"text-align: right;\">\n",
       "      <th></th>\n",
       "      <th>Sleep quality</th>\n",
       "      <th>Time in bed</th>\n",
       "      <th>Drank tea</th>\n",
       "      <th>Drank coffee</th>\n",
       "      <th>Ate late</th>\n",
       "      <th>Stressful day</th>\n",
       "    </tr>\n",
       "    <tr>\n",
       "      <th>Worked out</th>\n",
       "      <th></th>\n",
       "      <th></th>\n",
       "      <th></th>\n",
       "      <th></th>\n",
       "      <th></th>\n",
       "      <th></th>\n",
       "    </tr>\n",
       "  </thead>\n",
       "  <tbody>\n",
       "    <tr>\n",
       "      <th>0</th>\n",
       "      <td>74.388145</td>\n",
       "      <td>27526.118547</td>\n",
       "      <td>0.386233</td>\n",
       "      <td>0.435946</td>\n",
       "      <td>0.015296</td>\n",
       "      <td>0.047801</td>\n",
       "    </tr>\n",
       "    <tr>\n",
       "      <th>1</th>\n",
       "      <td>75.623626</td>\n",
       "      <td>27572.750000</td>\n",
       "      <td>0.697802</td>\n",
       "      <td>0.813187</td>\n",
       "      <td>0.035714</td>\n",
       "      <td>0.090659</td>\n",
       "    </tr>\n",
       "  </tbody>\n",
       "</table>\n",
       "</div>"
      ],
      "text/plain": [
       "            Sleep quality   Time in bed  Drank tea  Drank coffee  Ate late  \\\n",
       "Worked out                                                                   \n",
       "0               74.388145  27526.118547   0.386233      0.435946  0.015296   \n",
       "1               75.623626  27572.750000   0.697802      0.813187  0.035714   \n",
       "\n",
       "            Stressful day  \n",
       "Worked out                 \n",
       "0                0.047801  \n",
       "1                0.090659  "
      ]
     },
     "execution_count": 15,
     "metadata": {},
     "output_type": "execute_result"
    }
   ],
   "source": [
    "wo_df = df_cleaned[['Sleep quality', 'Time in bed', 'Drank tea', 'Drank coffee', 'Worked out', 'Ate late', 'Stressful day']].groupby(['Worked out']).mean()\n",
    "wo_df"
   ]
  },
  {
   "cell_type": "code",
   "execution_count": 16,
   "metadata": {},
   "outputs": [
    {
     "data": {
      "text/html": [
       "<div>\n",
       "<style scoped>\n",
       "    .dataframe tbody tr th:only-of-type {\n",
       "        vertical-align: middle;\n",
       "    }\n",
       "\n",
       "    .dataframe tbody tr th {\n",
       "        vertical-align: top;\n",
       "    }\n",
       "\n",
       "    .dataframe thead th {\n",
       "        text-align: right;\n",
       "    }\n",
       "</style>\n",
       "<table border=\"1\" class=\"dataframe\">\n",
       "  <thead>\n",
       "    <tr style=\"text-align: right;\">\n",
       "      <th></th>\n",
       "      <th></th>\n",
       "      <th>Sleep quality</th>\n",
       "      <th>Time in bed</th>\n",
       "      <th>Drank tea</th>\n",
       "      <th>Drank coffee</th>\n",
       "      <th>Worked out</th>\n",
       "    </tr>\n",
       "    <tr>\n",
       "      <th>Ate late</th>\n",
       "      <th>Stressful day</th>\n",
       "      <th></th>\n",
       "      <th></th>\n",
       "      <th></th>\n",
       "      <th></th>\n",
       "      <th></th>\n",
       "    </tr>\n",
       "  </thead>\n",
       "  <tbody>\n",
       "    <tr>\n",
       "      <th rowspan=\"2\" valign=\"top\">0</th>\n",
       "      <th>0</th>\n",
       "      <td>74.619283</td>\n",
       "      <td>27531.244747</td>\n",
       "      <td>0.503090</td>\n",
       "      <td>0.559951</td>\n",
       "      <td>0.393078</td>\n",
       "    </tr>\n",
       "    <tr>\n",
       "      <th>1</th>\n",
       "      <td>77.982456</td>\n",
       "      <td>27827.754386</td>\n",
       "      <td>0.578947</td>\n",
       "      <td>0.877193</td>\n",
       "      <td>0.578947</td>\n",
       "    </tr>\n",
       "    <tr>\n",
       "      <th rowspan=\"2\" valign=\"top\">1</th>\n",
       "      <th>0</th>\n",
       "      <td>77.400000</td>\n",
       "      <td>27316.300000</td>\n",
       "      <td>0.750000</td>\n",
       "      <td>1.000000</td>\n",
       "      <td>0.650000</td>\n",
       "    </tr>\n",
       "    <tr>\n",
       "      <th>1</th>\n",
       "      <td>72.000000</td>\n",
       "      <td>27356.000000</td>\n",
       "      <td>1.000000</td>\n",
       "      <td>1.000000</td>\n",
       "      <td>0.000000</td>\n",
       "    </tr>\n",
       "  </tbody>\n",
       "</table>\n",
       "</div>"
      ],
      "text/plain": [
       "                        Sleep quality   Time in bed  Drank tea  Drank coffee  \\\n",
       "Ate late Stressful day                                                         \n",
       "0        0                  74.619283  27531.244747   0.503090      0.559951   \n",
       "         1                  77.982456  27827.754386   0.578947      0.877193   \n",
       "1        0                  77.400000  27316.300000   0.750000      1.000000   \n",
       "         1                  72.000000  27356.000000   1.000000      1.000000   \n",
       "\n",
       "                        Worked out  \n",
       "Ate late Stressful day              \n",
       "0        0                0.393078  \n",
       "         1                0.578947  \n",
       "1        0                0.650000  \n",
       "         1                0.000000  "
      ]
     },
     "execution_count": 16,
     "metadata": {},
     "output_type": "execute_result"
    }
   ],
   "source": [
    "st_df = df_cleaned[['Sleep quality', 'Time in bed', 'Drank tea', 'Drank coffee', 'Worked out', 'Ate late', 'Stressful day']].groupby(['Ate late', 'Stressful day']).mean()\n",
    "st_df"
   ]
  },
  {
   "cell_type": "code",
   "execution_count": 17,
   "metadata": {},
   "outputs": [],
   "source": [
    "df_cleaned['Day of week'] = [x.weekday() for x in df_cleaned['Start']]\n",
    "df_cleaned_days_week=df_cleaned.copy()\n",
    "df_cleaned_days_week['Day of week'] = df_cleaned['Day of week'].replace({0:'Monday', 1:'Tuesday', 2:'Wednesday', 3:'Thursday', 4:'Friday', 5:'Saturday', 6:'Sunday'})"
   ]
  },
  {
   "cell_type": "code",
   "execution_count": 18,
   "metadata": {},
   "outputs": [
    {
     "data": {
      "text/plain": [
       "[Text(0.5, 1.0, 'Working out in the week')]"
      ]
     },
     "execution_count": 18,
     "metadata": {},
     "output_type": "execute_result"
    },
    {
     "data": {
      "image/png": "[encoded data removed]",
      "text/plain": [
       "<Figure size 432x288 with 1 Axes>"
      ]
     },
     "metadata": {
      "needs_background": "light"
     },
     "output_type": "display_data"
    }
   ],
   "source": [
    "sns.countplot(x = 'Day of week', hue = 'Worked out', data = df_cleaned_days_week).set(title='Working out in the week')"
   ]
  },
  {
   "cell_type": "code",
   "execution_count": 19,
   "metadata": {},
   "outputs": [
    {
     "data": {
      "text/plain": [
       "[Text(0.5, 1.0, 'Working out in the week')]"
      ]
     },
     "execution_count": 19,
     "metadata": {},
     "output_type": "execute_result"
    },
    {
     "data": {
      "image/png": "[encoded data removed]",
      "text/plain": [
       "<Figure size 432x288 with 1 Axes>"
      ]
     },
     "metadata": {
      "needs_background": "light"
     },
     "output_type": "display_data"
    }
   ],
   "source": [
    "sns.countplot(x = 'Day of week', hue = 'Drank coffee', data = df_cleaned_days_week).set(title='Working out in the week')"
   ]
  },
  {
   "cell_type": "code",
   "execution_count": 20,
   "metadata": {},
   "outputs": [
    {
     "data": {
      "text/plain": [
       "[Text(0.5, 1.0, 'Drinking tea out in the week')]"
      ]
     },
     "execution_count": 20,
     "metadata": {},
     "output_type": "execute_result"
    },
    {
     "data": {
      "image/png": "[encoded data removed]",
      "text/plain": [
       "<Figure size 432x288 with 1 Axes>"
      ]
     },
     "metadata": {
      "needs_background": "light"
     },
     "output_type": "display_data"
    }
   ],
   "source": [
    "sns.countplot(x = 'Day of week', hue = 'Drank tea', data = df_cleaned_days_week).set(title='Drinking tea out in the week')"
   ]
  },
  {
   "cell_type": "code",
   "execution_count": 21,
   "metadata": {},
   "outputs": [
    {
     "data": {
      "text/plain": [
       "[Text(0.5, 1.0, 'Eating late in the week')]"
      ]
     },
     "execution_count": 21,
     "metadata": {},
     "output_type": "execute_result"
    },
    {
     "data": {
      "image/png": "[encoded data removed]",
      "text/plain": [
       "<Figure size 432x288 with 1 Axes>"
      ]
     },
     "metadata": {
      "needs_background": "light"
     },
     "output_type": "display_data"
    }
   ],
   "source": [
    "sns.countplot(x = 'Day of week', hue = 'Ate late', data = df_cleaned_days_week).set(title='Eating late in the week')"
   ]
  },
  {
   "cell_type": "code",
   "execution_count": 22,
   "metadata": {},
   "outputs": [
    {
     "data": {
      "text/plain": [
       "[Text(0.5, 1.0, 'Stressful day in the week')]"
      ]
     },
     "execution_count": 22,
     "metadata": {},
     "output_type": "execute_result"
    },
    {
     "data": {
      "image/png": "[encoded data removed]",
      "text/plain": [
       "<Figure size 432x288 with 1 Axes>"
      ]
     },
     "metadata": {
      "needs_background": "light"
     },
     "output_type": "display_data"
    }
   ],
   "source": [
    "sns.countplot(x = 'Day of week', hue = 'Stressful day', data = df_cleaned_days_week).set(title='Stressful day in the week')"
   ]
  },
  {
   "cell_type": "code",
   "execution_count": 23,
   "metadata": {},
   "outputs": [
    {
     "data": {
      "text/plain": [
       "[Text(0.5, 1.0, 'Correlation matrix of the final data')]"
      ]
     },
     "execution_count": 23,
     "metadata": {},
     "output_type": "execute_result"
    },
    {
     "data": {
      "image/png": "[encoded data removed]",
      "text/plain": [
       "<Figure size 432x288 with 2 Axes>"
      ]
     },
     "metadata": {
      "needs_background": "light"
     },
     "output_type": "display_data"
    }
   ],
   "source": [
    "sns.heatmap(df_cleaned.corr()).set(title='Correlation matrix of the final data')"
   ]
  },
  {
   "cell_type": "markdown",
   "metadata": {},
   "source": [
    "This heatmap is before normalizing, should we not have after?"
   ]
  },
  {
   "cell_type": "code",
   "execution_count": 24,
   "metadata": {},
   "outputs": [
    {
     "name": "stdout",
     "output_type": "stream",
     "text": [
      "<class 'pandas.core.frame.DataFrame'>\n",
      "RangeIndex: 887 entries, 0 to 886\n",
      "Data columns (total 10 columns):\n",
      " #   Column                Non-Null Count  Dtype  \n",
      "---  ------                --------------  -----  \n",
      " 0   Start time in second  887 non-null    int64  \n",
      " 1   End time in second    887 non-null    int64  \n",
      " 2   Time in bed           887 non-null    float64\n",
      " 3   Activity (steps)      887 non-null    int64  \n",
      " 4   Ate late              887 non-null    int32  \n",
      " 5   Worked out            887 non-null    int32  \n",
      " 6   Drank coffee          887 non-null    int32  \n",
      " 7   Drank tea             887 non-null    int32  \n",
      " 8   Stressful day         887 non-null    int32  \n",
      " 9   Day of week           887 non-null    int64  \n",
      "dtypes: float64(1), int32(5), int64(4)\n",
      "memory usage: 52.1 KB\n"
     ]
    }
   ],
   "source": [
    "final_dataset=df_cleaned[['Start time in second','End time in second','Time in bed','Activity (steps)','Ate late','Worked out','Drank coffee','Drank tea','Stressful day','Day of week']]\n",
    "final_dataset.info()"
   ]
  },
  {
   "cell_type": "code",
   "execution_count": 25,
   "metadata": {},
   "outputs": [],
   "source": [
    "y=df_cleaned['Sleep quality']\n",
    "X=final_dataset.values\n",
    "labels=['Start time in second','End time in second','Time in bed','Activity (steps)','Ate late','Worked out','Drank coffee','Drank tea','Stressful day']"
   ]
  },
  {
   "cell_type": "code",
   "execution_count": 26,
   "metadata": {},
   "outputs": [
    {
     "data": {
      "image/png": "[encoded data removed]",
      "text/plain": [
       "<Figure size 432x288 with 2 Axes>"
      ]
     },
     "metadata": {
      "needs_background": "light"
     },
     "output_type": "display_data"
    },
    {
     "data": {
      "image/png": "[encoded data removed]",
      "text/plain": [
       "<Figure size 432x288 with 2 Axes>"
      ]
     },
     "metadata": {
      "needs_background": "light"
     },
     "output_type": "display_data"
    },
    {
     "data": {
      "image/png": "[encoded data removed]",
      "text/plain": [
       "<Figure size 432x288 with 2 Axes>"
      ]
     },
     "metadata": {
      "needs_background": "light"
     },
     "output_type": "display_data"
    },
    {
     "data": {
      "image/png": "[encoded data removed]",
      "text/plain": [
       "<Figure size 432x288 with 2 Axes>"
      ]
     },
     "metadata": {
      "needs_background": "light"
     },
     "output_type": "display_data"
    },
    {
     "data": {
      "image/png": "[encoded data removed]",
      "text/plain": [
       "<Figure size 432x288 with 2 Axes>"
      ]
     },
     "metadata": {
      "needs_background": "light"
     },
     "output_type": "display_data"
    },
    {
     "data": {
      "image/png": "[encoded data removed]",
      "text/plain": [
       "<Figure size 432x288 with 2 Axes>"
      ]
     },
     "metadata": {
      "needs_background": "light"
     },
     "output_type": "display_data"
    },
    {
     "data": {
      "image/png": "[encoded data removed]",
      "text/plain": [
       "<Figure size 432x288 with 2 Axes>"
      ]
     },
     "metadata": {
      "needs_background": "light"
     },
     "output_type": "display_data"
    },
    {
     "data": {
      "image/png": "[encoded data removed]",
      "text/plain": [
       "<Figure size 432x288 with 2 Axes>"
      ]
     },
     "metadata": {
      "needs_background": "light"
     },
     "output_type": "display_data"
    },
    {
     "data": {
      "image/png": "[encoded data removed]",
      "text/plain": [
       "<Figure size 432x288 with 2 Axes>"
      ]
     },
     "metadata": {
      "needs_background": "light"
     },
     "output_type": "display_data"
    }
   ],
   "source": [
    "for i in range(len(labels)):\n",
    "    feat=labels[i]\n",
    "    fig, ax = plt.subplots(1,2)\n",
    "    ax[0].boxplot(X[:,i])\n",
    "    ax[1].hist(X[:,i])\n",
    "    ax[0].set_title(feat)\n",
    "    plt.show()"
   ]
  },
  {
   "cell_type": "code",
   "execution_count": 27,
   "metadata": {},
   "outputs": [
    {
     "name": "stdout",
     "output_type": "stream",
     "text": [
      "[[8.2669e+04 2.7013e+04 3.0744e+04 ... 0.0000e+00 0.0000e+00 0.0000e+00]\n",
      " [7.6670e+04 7.7634e+04 9.6400e+02 ... 0.0000e+00 1.0000e+00 1.0000e+00]\n",
      " [8.1769e+04 2.6011e+04 3.0642e+04 ... 0.0000e+00 0.0000e+00 1.0000e+00]\n",
      " ...\n",
      " [7.7045e+04 2.2852e+04 3.2207e+04 ... 0.0000e+00 0.0000e+00 2.0000e+00]\n",
      " [7.7792e+04 2.4631e+04 3.3239e+04 ... 0.0000e+00 0.0000e+00 3.0000e+00]\n",
      " [8.2349e+04 2.8084e+04 3.2135e+04 ... 0.0000e+00 0.0000e+00 4.0000e+00]]\n",
      "####\n",
      "[-3.51049112e-01  7.97490289e-01 -3.35613072e-01 -4.79845729e-01\n",
      " -2.01512167e-01 -1.26754460e-01 -2.99159491e-01  4.31473314e-01\n",
      " -9.24313039e-02 -2.39658357e-01  4.69687891e-01 -2.14047947e-02\n",
      "  2.73585349e-01  3.11211619e-01 -1.56116272e-02 -5.09887811e-02\n",
      " -5.67980255e-02 -6.15769197e-03 -3.68954225e-01 -5.48944285e-03\n",
      "  2.84823852e-01 -2.12805651e-01 -1.30599090e+00  2.66620357e-02\n",
      "  7.71894207e-02  1.64922854e-01  5.14030270e-02  2.51261585e-01\n",
      "  2.54510445e-01  8.46362584e-02  3.87189691e-01 -3.01503545e-03\n",
      " -3.25479046e-01 -9.15686842e-02 -8.72189693e-02  2.50115669e-01\n",
      " -3.06813012e-01 -2.62502290e-01  7.06908708e-02  5.90227372e-02\n",
      " -1.90445907e-01 -3.48815426e-01 -2.80960430e-01  4.17594547e-01\n",
      "  3.65656688e-02  3.53983375e-01 -1.89771465e-02 -7.42905005e-02\n",
      " -3.62537982e-01 -5.21380912e-02  3.72154892e-03  2.85929743e-02\n",
      "  6.62468912e-01  2.38217436e-02 -5.74411529e-02 -6.18898088e-02\n",
      " -6.43916468e-02 -1.48625754e-01  1.00858475e-01 -4.52790131e-01\n",
      " -2.50026023e-01  3.32952397e-01 -3.26276916e-01  3.32361780e-01\n",
      " -2.57659139e-01  4.06809473e-02 -6.35379699e-02 -2.70530691e-01\n",
      "  5.53305043e-02  2.81071565e-01 -6.57766899e-02 -2.06108620e-01\n",
      " -4.34942424e-01  9.55212045e-02  2.24040556e-01  1.66936161e-01\n",
      "  8.10207114e-02 -2.13813833e-01 -1.12453703e-01 -2.97356619e-02\n",
      "  7.77079584e-01 -1.34256774e-01  2.39513248e-01  4.82302495e-01\n",
      "  3.67146105e-01  6.30539743e-01 -3.07486518e-01 -2.53020590e-01\n",
      "  3.42107945e-01  4.64265025e-02  1.30798587e-01  7.09453231e-01\n",
      " -1.48903703e-01  2.62085475e-01  1.58064373e-01 -3.20777729e-01\n",
      " -3.01952718e-01 -3.47480781e-03  7.18207940e-01 -5.34315930e-01\n",
      " -1.77532062e-01  4.89617812e-02 -7.60838458e-02  2.12399893e-01\n",
      " -2.45974894e-01 -4.91060482e-02  3.00231501e-01 -8.03474187e-02\n",
      "  8.99313017e-02 -1.88306709e-01 -2.13236999e-01 -1.14333555e+00\n",
      " -1.17389137e-01 -7.06830924e-02 -1.44784365e-02  4.51198838e-01\n",
      " -1.92640383e-03  1.38631000e-01  7.94464960e-02  5.43187822e-01\n",
      " -3.94556936e-01 -2.41059089e-01 -2.93296876e-01 -8.88786225e-02\n",
      " -1.30388617e+00  3.76536426e-01  6.17181095e-01 -9.11298657e-03\n",
      " -1.08590440e-01  5.70948745e-02  5.00455725e-01  1.71869591e-01\n",
      "  4.76895890e-01  2.44147177e-02 -3.82685063e-02  1.34761995e-01\n",
      "  3.93481985e-01 -1.00927946e+00 -4.19651858e-01  9.92006690e-02\n",
      " -4.05530852e-02 -1.30302722e-02 -8.03211757e-02 -1.01093448e+00\n",
      "  1.30793128e-01  4.29931262e-02 -2.60316270e-01 -5.49424393e-02\n",
      "  1.99645573e-01 -3.50809702e-02 -2.41788573e-01  2.56467245e-01\n",
      " -1.39233014e-01  7.11875469e-01 -3.41194785e-01  1.55652606e-01\n",
      " -4.08799378e-01  4.46425094e-02 -5.85301191e-02 -3.62310203e-01\n",
      " -3.04793864e-01 -1.48318388e-01  7.88132697e-03 -1.59350596e-01\n",
      " -9.09282663e-02  1.38385604e-01  6.35948980e-03 -1.10809463e-01\n",
      " -9.04618309e-02  3.11006534e-01 -1.27290166e-01  2.09513929e-01\n",
      "  1.97838790e-01 -4.75028436e-01  3.25724958e-02  3.82581250e-01\n",
      "  1.73973866e-01  1.94954285e-02  8.18077661e-01  5.35404176e-02\n",
      " -2.30029017e-01  7.62225330e-01  7.03727187e-02 -1.57735289e-01\n",
      "  3.40375980e-01  7.14065268e-01 -2.92724895e-01 -1.26034953e+00\n",
      " -3.52448552e-02  2.46758361e-01 -1.66734713e-01  7.11294590e-03\n",
      " -1.97401246e-02 -3.63912764e-02  1.27531935e-01  1.52967557e-01\n",
      "  1.50391020e-01 -2.06886031e-01 -1.41932270e-01 -2.30614369e-02\n",
      " -4.96921327e-03 -1.46087780e-01  8.29826470e-02  8.29072956e-02\n",
      "  1.01333501e-01  1.34817512e-01  1.69420543e-01  1.09427043e-01\n",
      " -1.83396543e-03  1.26924348e-01 -5.26569357e-02  2.92231343e-01\n",
      "  2.12494307e-01  7.15363735e-01  1.27930935e-01 -1.45146337e-01\n",
      " -1.36535000e-01  1.56740558e-01  1.21655877e-01  2.32191224e-01\n",
      "  2.65298995e-02 -2.49791743e-02  1.48177347e-01  9.63606614e-02\n",
      " -2.14415155e-01  4.28665619e-01  4.59447272e-02  1.22623010e-01\n",
      "  4.46503198e-01  3.84924247e-01 -1.47295890e-01 -3.78466246e-02\n",
      "  9.88805378e-02  2.74379193e-01  2.11161234e-01  3.82289995e-01\n",
      " -2.40964175e-01  7.29500765e-02 -8.45236963e-02 -1.71447218e-01\n",
      "  3.54376300e-01  3.67773543e-01 -1.14454382e-01  1.94683779e-01\n",
      " -5.74149421e-02  1.02251220e+00  9.59752364e-02  2.57624198e-01\n",
      "  4.38712374e-01  1.56834983e-01  8.08965079e-02 -1.07741761e-01\n",
      "  4.21331048e-01  4.24703790e-01 -2.66140455e-01  1.23506676e-01\n",
      "  4.02371423e-02  8.96898607e-02  2.79362851e-01 -6.41051086e-02\n",
      " -4.33486332e-02 -1.99707152e-01 -4.60543482e-02  5.40823934e-01\n",
      "  1.27089561e-02  1.09964110e-01 -3.84542760e-01  1.26168704e-01\n",
      " -1.78924369e-01 -3.53265510e-01  3.17826591e-01 -2.53987169e-01\n",
      " -1.98582431e-01  4.53265820e-01  2.27267359e-01  1.12443199e-01\n",
      " -2.85019579e-01 -4.35731330e-02 -9.99460323e-02 -3.62713840e-01\n",
      "  1.18075661e-01 -1.25017629e-01 -8.03402861e-02 -2.14400131e-01\n",
      "  1.96748890e-01  4.47914529e-02  7.24084710e-02  1.26541204e-01\n",
      " -1.35423889e-01 -8.61198727e-03 -3.28333223e-01 -5.39905930e-02\n",
      " -1.75215741e-01  1.06702746e-01  3.54184174e-02 -2.07729267e-01\n",
      "  1.32629484e-01  1.13759927e-01  1.47166616e-01  1.38853562e-01\n",
      "  1.79423829e-01 -1.21016083e-01 -7.00673827e-03  2.83110948e-02\n",
      "  1.11259511e-01  2.46844051e-01 -9.77820718e-02  1.63068841e-01\n",
      "  2.37371935e-01  1.30995100e-01  2.64793518e-02 -2.27501093e-01\n",
      "  2.17791989e-02  7.53832304e-02  8.36174296e-01 -1.43875728e-02\n",
      "  5.82041103e-01 -1.93254155e-01  4.04965766e-01  6.06741611e-02\n",
      "  1.59425353e-01  6.91447570e-01  2.53833353e-01  2.44787359e-01\n",
      "  2.01081486e-01  7.71676344e-01 -4.73710009e-01 -1.14486498e+00\n",
      "  8.37304327e-02 -5.20947857e-02  6.43854101e-01  1.11184366e-01\n",
      "  1.98992205e-01  2.25208554e-01  1.89507870e-01  2.21928873e-01\n",
      " -7.84206793e-02 -5.91880654e-02  2.21288236e-01  4.75406939e-01\n",
      "  7.79567493e-01  2.19866688e-01  9.23146218e-02 -1.13742394e-02\n",
      " -5.69075216e-02  1.78820336e-01  2.30874870e-01  5.07050492e-01\n",
      " -1.41585193e-02 -7.62571925e-02  4.10238664e-04  6.74774444e-02\n",
      " -3.60164801e-01  2.43625005e-01 -4.72561223e-01 -1.70217461e-01\n",
      "  1.79732706e-02  4.76372899e-02 -1.99149149e-01  5.39902468e-02\n",
      "  6.99061635e-02 -7.11084352e-02 -1.47869943e-01 -1.39068929e-01\n",
      " -1.17449569e-01 -3.18462111e-01 -2.11802615e-01  1.39540770e-03\n",
      "  7.51685343e-01  3.14060132e-01 -2.37981123e-02 -7.76107540e-02\n",
      " -4.67097413e-02 -2.71679217e-01  1.95365684e-01  3.96748221e-01\n",
      " -1.20253391e-01 -2.09785689e-01 -1.66455715e-01 -2.62628438e-02\n",
      "  5.91979771e-02  1.24562500e-02  2.83309002e-01 -6.81129591e-02\n",
      "  3.09283855e-01  1.78403280e-02 -2.44470790e-01 -1.53170710e-01\n",
      "  2.72203674e-01 -1.78138050e-02  1.34671108e-01 -2.69029192e-02\n",
      " -6.53471084e-02 -5.47982748e-02 -8.03298192e-02  4.06394605e-01\n",
      " -2.72413578e-02  2.78246113e-01  1.21803865e-01  2.14289548e-01\n",
      " -1.63307955e-01 -8.70151251e-02  1.04353991e-01  1.59725588e-01\n",
      "  1.19800260e-01  1.38106855e-01 -1.34386814e-01 -1.30335408e-01\n",
      "  5.09712830e-01 -6.51247040e-01  2.69946808e-01  8.16394585e-01\n",
      "  1.67084009e-01  5.60307149e-01  2.99792178e-01 -1.80583225e-02\n",
      "  6.34716883e-02  5.40779137e-02  1.37074504e-01  2.97141425e-01\n",
      "  3.61886051e-01  2.93526594e-01  7.61373459e-03  6.59244197e-02\n",
      "  9.07872086e-02  5.03795975e-02  2.62093741e-01  2.23713178e-01\n",
      "  4.46736970e-02  1.62703002e-01  1.38378395e-01  1.99252870e-01\n",
      " -4.94270381e-02  4.55258419e-02 -3.58666108e-02  6.26563965e-02\n",
      "  9.66855023e-02  2.44276384e-01  3.05305687e-01  2.47787048e-01\n",
      "  2.33691293e-01  2.13859285e-01 -6.96256072e-02  3.61027135e-01\n",
      "  3.71740744e-01  5.48023098e-01  9.49576047e-02  4.34069553e-01\n",
      "  2.13051292e-01  4.29454986e-01  2.56189987e-01  3.79310178e-01\n",
      "  3.16185317e-01  2.14593187e-01  2.21293254e-01 -8.90759170e-02\n",
      "  6.97496923e-01  7.24134093e-01  2.00921263e-01  1.82564132e-01\n",
      "  3.01663753e-01  1.17328861e-01  2.59135126e-01  3.72550989e-01\n",
      "  6.02184455e-01  1.39568994e-01  4.89911784e-01 -1.03976163e-01\n",
      "  1.46124933e-01  3.79570473e-01  2.99343153e-01  1.33500488e-01\n",
      "  4.38011066e-01  4.65412516e-01  1.51237919e-01  1.62513549e-01\n",
      "  4.06437860e-01  4.68167304e-01  2.85407713e-01  7.34281746e-01\n",
      "  9.65460438e-02 -8.37311153e-04  2.18394807e-01  3.56217401e-01\n",
      "  5.17628077e-01  1.99595147e-01  1.07704963e-01 -5.40789846e-02\n",
      "  5.38903350e-02  3.28712893e-01  1.51542967e-01  2.83229584e-01\n",
      " -7.04862023e-02  1.80454046e-01  4.28401630e-01  2.97593289e-01\n",
      "  4.24583245e-01  5.70713939e-03  1.05901311e-01 -2.20153210e-01\n",
      " -3.01278905e-02 -1.00724897e+00 -1.88123409e-01  2.38468374e-01\n",
      "  4.02015473e-02  1.26600709e-02  6.68047725e-02  4.60777064e-01\n",
      "  5.09468483e-01  3.04466203e-01  1.72838244e-01 -2.43805381e-02\n",
      "  9.44701289e-02  2.13409960e-01 -8.27035838e-02 -1.44586289e-01\n",
      "  1.65229490e-01 -1.72215466e-01 -7.29618807e-03  3.32386283e-01\n",
      "  6.90172689e-01  1.87892870e-01  4.91532696e-01 -1.81010483e-01\n",
      " -1.08398072e+00 -1.95190626e-01  4.49530561e-01  3.00471053e-01\n",
      "  7.39804790e-01 -1.66184265e-01  4.57021499e-03  1.27436679e-01\n",
      " -2.96925340e-02 -1.04312302e-01  7.88357969e-01  5.60808088e-01\n",
      "  7.77417998e-01 -3.62834985e-01 -9.57940427e-01 -4.95758213e-01\n",
      " -4.14421850e-03  1.18026716e-01  2.24120135e-01  2.33302190e-01\n",
      "  1.32219301e-01 -2.14152601e-02 -2.03046592e-02  4.17295808e-02\n",
      "  1.25845283e-01 -9.23492304e-01  3.37069970e-01 -3.42431326e-01\n",
      "  2.69775909e-01  3.54217340e-01  1.31645989e-01  2.06017467e-01\n",
      "  4.13659775e-01  3.93535352e-01  9.55426901e-01  4.16154609e-02\n",
      "  3.19335247e-02  7.66861208e-01 -6.88782390e-01  9.72795255e-02\n",
      "  4.23398695e-01 -1.36686342e-01 -1.03379411e+00 -4.01629262e-02\n",
      "  1.41795263e-01  1.47148942e-01  3.93602574e-01 -9.27794864e-02\n",
      "  1.89645895e-01 -1.06543592e-01  5.52633115e-02 -2.70572378e-01\n",
      "  7.33747031e-02 -9.43888702e-01  1.14575676e+00 -1.64455061e-01\n",
      " -3.23199571e-01  2.77665614e-01 -9.77391326e-01  1.86867487e-01\n",
      "  4.11387050e-01  2.60402785e-01  1.69486145e-01  4.91637462e-02\n",
      "  3.33512345e-01  1.57440781e-01  2.42346695e-01  2.42886882e-01\n",
      "  2.42783264e-01 -9.77059684e-02  1.88001544e-02  4.30658134e-01\n",
      "  4.99745742e-01  6.45341172e-01  1.06129374e-01 -3.34602191e-01\n",
      "  8.04341413e-02 -6.63057646e-02  1.93327292e-02  3.48773022e-01\n",
      "  3.33106382e-01  3.64708125e-01  5.75691032e-02  2.41781358e-01\n",
      "  3.53382089e-01  6.75079999e-01  1.92744762e-01  2.81815047e-01\n",
      "  4.83063116e-01 -2.93771404e-01  1.70008035e-01  3.29282091e-01\n",
      "  5.96246229e-01  3.09905796e-01 -7.82735999e-01  9.83533956e-02\n",
      " -1.28579156e+00 -4.38951837e-01 -4.17967408e-02  2.68919064e-01\n",
      "  3.21021497e-01  1.25142537e-01 -2.85868912e-01 -1.57482831e-01\n",
      "  2.96004564e-01 -2.85447239e-01  3.55358480e-01  7.50364647e-01\n",
      "  1.26753045e-01  8.55422524e-02  3.80063402e-01  3.81707838e-01\n",
      "  4.28465282e-01  4.53768085e-01  8.40030282e-01  3.08321511e-01\n",
      "  5.76609834e-01  4.31236171e-01  2.65920345e-01  3.48603464e-01\n",
      "  3.60677900e-01  3.98089002e-01  1.02552044e-01  3.04052153e-01\n",
      "  1.88202726e-01 -1.02188333e+00  3.09185690e-02  4.45735332e-01\n",
      "  1.68551485e-01 -8.62547874e-02  3.16274115e-01  3.03269992e-01\n",
      " -2.42164757e-01  4.17131412e-01  6.05944841e-01  4.07143035e-01\n",
      "  3.51809449e-01  1.60064110e-01  1.58184568e-01  1.76789800e-01\n",
      "  9.07510391e-02 -2.47897358e-03  4.81771612e-01  8.04164291e-01\n",
      "  2.81421313e-01  3.85794631e-01  1.24653265e-01  5.47704649e-01\n",
      "  1.17702016e-01  9.75053043e-02  6.63985669e-01  4.96800234e-01\n",
      " -1.36954340e-01 -1.79208374e-01 -6.43447752e-02 -1.88773411e-01\n",
      " -2.23908868e-01 -3.09610578e-01 -2.02893662e-01 -4.44655802e-01\n",
      " -8.29464094e-01 -1.28357593e-01 -3.51126555e-01 -2.92703515e-01\n",
      " -1.15507915e+00 -3.19538492e-01 -1.95510734e-01 -2.39313792e-01\n",
      " -1.19366381e-01 -2.96676412e-01 -1.43524677e-01 -1.63879433e-01\n",
      " -1.87595205e-01 -2.68009797e-01 -2.33484917e-01 -3.10137880e-01\n",
      " -3.08464976e-01 -3.51760484e-02  6.11522336e-02 -4.55154793e-01\n",
      " -3.07652813e-01 -2.57596549e-01 -1.94711173e-01 -3.92736081e-01\n",
      " -4.58312472e-01 -2.69890073e-02 -4.16389364e-01 -2.40852099e-01\n",
      " -3.30220256e-01 -5.37809688e-01 -2.25752508e-02 -1.79682066e-01\n",
      " -1.17272135e+00 -3.87092857e-01 -3.88139298e-01 -3.85255831e-01\n",
      " -2.36545463e-01 -5.54475081e-02 -2.20181646e-01 -4.85366815e-01\n",
      " -5.27756941e-01 -3.21477628e-01 -2.87548171e-01 -1.23982146e-01\n",
      "  2.03521498e-02  1.42936625e-01 -2.66749076e-01 -3.16923250e-01\n",
      " -4.33070862e-01 -9.37802175e-02 -1.57424537e-01 -3.84137215e-01\n",
      " -2.68403528e-01 -2.82504257e-01 -2.98513842e-01 -4.52937882e-02\n",
      "  2.83799716e-01 -2.09335652e-01 -3.12616045e-01 -1.61860654e-01\n",
      "  9.89814867e-02 -2.93937169e-01 -1.10587741e-03 -5.45287440e-01\n",
      " -2.64325719e-01 -3.06269641e-01 -2.61959294e-01 -1.71025732e-01\n",
      " -2.29033686e-01 -3.09911448e-01 -2.95066326e-01 -2.72225497e-01\n",
      " -1.86034676e-01 -1.31282231e-02 -4.55780637e-01 -3.60750124e-01\n",
      " -3.13407361e-01 -2.60158575e-01 -1.06456948e-01 -3.71504579e-01\n",
      " -5.50132514e-01 -1.49300353e-01 -2.34996003e-01 -5.04693751e-03\n",
      " -3.01211346e-01 -1.51856508e-01 -4.48918862e-01 -3.03675538e-01\n",
      " -2.83111546e-01 -4.69841458e-01  1.48693651e-02  1.01410748e-01\n",
      " -4.38424116e-01 -3.58423504e-01 -3.06691280e-01 -2.30379380e-01\n",
      " -2.30248666e-02 -1.16776453e-01 -1.98157785e-01 -3.36182209e-01\n",
      " -3.82475332e-01 -7.80697396e-01 -2.93239107e-01 -3.01553598e-01\n",
      " -4.74176189e-01 -1.01281806e-01 -3.77218393e-01 -3.47209008e-01\n",
      " -3.31574338e-01 -6.64856149e-01 -8.87565408e-03 -2.46707379e-01\n",
      " -4.36815549e-01 -4.96171184e-01 -1.65239283e-01 -1.71409804e-01\n",
      " -1.18871309e-01 -4.60113594e-01 -4.83125054e-01 -2.68399000e-01\n",
      " -1.69457418e-01 -4.69618370e-02 -1.02659369e-01  1.81392220e-01\n",
      " -3.10849137e-01 -2.68673637e-01 -4.07705624e-01 -1.02332874e-01\n",
      " -1.35223544e-01 -3.93856680e-01 -2.69708868e-01 -2.71743535e-01\n",
      " -2.14895936e-01  1.64958118e-01 -2.55035178e-01 -5.94163857e-01\n",
      " -3.50424049e-01 -4.14408738e-01 -3.53020083e-01 -1.91965429e-01\n",
      " -3.67807880e-01 -4.26781036e-01 -2.99537506e-01 -3.14406383e-01\n",
      " -1.99959869e-02 -2.59057499e-01 -3.38283111e-01 -3.28745629e-01\n",
      " -4.36179931e-01 -6.35931953e-02 -5.13483601e-01 -3.47156675e-01\n",
      " -3.16014703e-01 -2.20750975e-01 -1.17048724e-01 -3.72439624e-01\n",
      "  1.67058015e-02 -4.59616445e-01 -5.56386628e-01 -7.67903463e-01\n",
      " -3.46546395e-02  2.26506782e-02 -2.03168536e-01 -5.85731792e-01\n",
      " -3.29337464e-01 -3.92814867e-01 -5.71778776e-01  1.17945282e-01\n",
      " -4.80689626e-02 -2.79245988e-02 -5.18158255e-01 -3.45816617e-01\n",
      " -2.77020296e-01 -4.14592844e-02  1.61535779e-01 -3.15358838e-02\n",
      " -2.61915039e-01 -5.63513050e-01 -4.02151633e-01 -2.46591119e-01\n",
      " -4.25444624e-01 -8.91872513e-02 -1.63991151e-01 -4.05184336e-01\n",
      " -5.24230179e-01 -3.64214670e-01 -4.42783112e-01 -1.43878836e-01\n",
      " -5.10810569e-01 -7.82507917e-01 -4.81610671e-02 -2.57558774e-01\n",
      " -3.25728001e-01 -3.06203632e-01 -3.28364771e-01 -4.48013959e-01\n",
      " -1.75973733e-02 -5.50772275e-02 -3.64979892e-01 -4.39250797e-01\n",
      " -2.63598101e-01 -4.88820483e-02 -3.40597022e-02] [0.78670278 5.09302187 0.6847475  0.45438253 0.73688197 1.22593598\n",
      " 1.26865509 2.17671189 0.87258106 0.82314151 1.30139536 0.58115801\n",
      " 0.69843564 0.72209249 0.80543709 0.88605387 0.63355377 0.7767259\n",
      " 0.69355076 1.36644428 0.73512447 0.84552612 1.37527099 0.78844817\n",
      " 0.71487146 0.61977117 0.85589921 1.36690586 1.34210043 0.70286181\n",
      " 1.72386935 0.85354796 0.68831909 0.62521106 0.71114022 0.73153102\n",
      " 0.66566842 0.58577554 0.69471332 0.73302708 0.81938185 1.19622583\n",
      " 0.73367807 1.25344877 1.24628749 0.76355381 0.76192133 0.62592671\n",
      " 1.12687551 0.72758397 0.90212867 0.73954486 1.24650361 0.56826786\n",
      " 0.76084842 0.75932202 0.63083782 0.6510923  0.70270486 0.83896985\n",
      " 0.73980457 0.78541617 1.20629611 0.76857096 0.59275276 0.71924395\n",
      " 0.74987724 0.79642369 0.70720202 0.70229001 0.76336901 0.72905033\n",
      " 0.6663622  0.70061527 0.78487111 0.65781309 0.77926193 0.80842265\n",
      " 1.19909529 0.59824109 1.15887755 0.69768718 1.35726075 1.31248486\n",
      " 0.77788677 2.12141867 0.87565399 0.7839767  1.29705978 0.66851652\n",
      " 0.67533966 2.03309005 0.80742884 1.75485988 0.92206454 0.87388506\n",
      " 0.85236379 0.57260833 1.51273765 0.55249133 0.75746696 0.7475267\n",
      " 1.31174885 0.72865934 0.72859662 0.7959992  0.58411679 0.7740081\n",
      " 0.75775081 0.66236739 1.15440982 1.3404084  0.78265023 0.83949507\n",
      " 0.81028911 1.34770208 0.6444012  0.74142543 0.75645615 1.26557319\n",
      " 0.6178965  0.84536949 0.82072195 0.84309202 1.4664317  1.30467715\n",
      " 1.38623843 0.78661674 0.87160843 0.71196114 1.26676482 0.7878213\n",
      " 1.31447135 0.73729686 0.68017695 1.31671864 0.85460685 2.61517765\n",
      " 1.20247908 1.48356817 0.82289332 0.79366985 1.28513775 1.02410373\n",
      " 0.81288956 0.74487677 0.89231265 0.82136922 0.67462628 0.66934989\n",
      " 0.5455574  1.32235484 0.67940937 2.06386051 0.57573689 1.35070354\n",
      " 0.56023824 0.61062716 0.76903139 0.63102658 0.63113236 0.62103837\n",
      " 0.6975308  0.69773913 0.74316323 0.63215527 0.80492659 1.26591804\n",
      " 0.77283589 1.38495818 0.69852071 0.62388313 0.60526131 1.11689443\n",
      " 0.72696223 0.70941947 0.70593764 0.75555009 1.96771482 0.82230764\n",
      " 0.85572183 2.00439843 0.73590771 1.24130126 1.85350244 2.05165861\n",
      " 0.8059681  1.42998521 0.69613343 0.58779821 1.20891423 0.77923906\n",
      " 0.67366189 0.57927116 0.67549586 1.29769228 0.64654595 0.71502349\n",
      " 0.72780417 0.69698086 0.69037762 1.22444759 0.76616072 0.69013304\n",
      " 0.65785153 0.67738804 1.30721413 0.7748022  0.79218744 0.67659639\n",
      " 0.58455228 0.71644786 0.73073429 2.02537002 0.66694312 0.83394158\n",
      " 0.89641685 0.67060084 0.66253994 0.58723191 1.26351147 0.80168664\n",
      " 0.80280137 0.68897782 0.68896811 2.14271467 0.80338249 1.49881698\n",
      " 1.31790857 1.33356381 1.36687158 0.76489188 0.68282519 1.31989725\n",
      " 0.66537579 0.70475334 0.78498714 0.71773773 0.58959535 0.6552973\n",
      " 0.81832056 0.80259844 0.79156246 1.38994031 0.69564897 2.19905645\n",
      " 0.69330101 0.80693903 2.12072563 0.67057485 0.68799921 0.62986466\n",
      " 0.93732354 0.6955597  0.67920236 0.67799063 0.71857388 0.70008183\n",
      " 0.61741096 0.76268387 0.8163211  0.74200073 0.65234395 1.2665839\n",
      " 0.71011683 0.82761811 1.19497031 0.75602869 0.7246248  0.87485406\n",
      " 1.38622941 0.79118962 0.72723165 1.30921683 0.58799943 0.79063062\n",
      " 0.67444316 0.69881025 0.72043887 1.18935253 0.80638154 0.81752864\n",
      " 0.82284259 0.79274553 0.61600997 0.69845972 0.79885434 0.75372061\n",
      " 0.79831345 0.77911098 0.59613146 0.73448613 1.26396733 0.84446554\n",
      " 0.89755428 0.80731726 0.67304339 0.70945423 0.61339725 0.84610239\n",
      " 0.88158595 0.83823143 0.6974095  0.72915251 0.82636977 1.41147215\n",
      " 0.69941413 0.62401375 0.58421776 0.85775964 0.79133091 0.75886807\n",
      " 0.78156873 0.68299582 1.96372702 1.2430361  0.71084725 0.85966113\n",
      " 1.367613   0.70369207 0.62281154 1.18124352 0.67576502 0.7631436\n",
      " 0.72578439 2.00283442 0.49767564 1.58761924 1.26552192 0.79919454\n",
      " 2.08316792 0.67918142 0.61244366 0.59032809 0.65882605 0.81951448\n",
      " 0.78612967 0.69519222 0.61350552 2.05742015 1.14011905 0.67186625\n",
      " 0.79829552 0.79291603 0.81406715 0.61507781 0.63107593 0.6667043\n",
      " 0.82931794 0.79983301 0.79696833 1.35292068 1.16270203 0.72864832\n",
      " 0.63891479 0.71936852 0.65766586 0.64681985 1.22586756 0.78980591\n",
      " 1.39422915 0.69492806 0.6999227  0.73057573 0.86554562 0.85235337\n",
      " 0.73475325 0.66689859 1.9998003  1.09733273 0.80041062 0.81965113\n",
      " 0.63101062 1.20559091 0.61208813 0.60525281 0.7804577  0.76698504\n",
      " 0.71269711 0.64874623 0.64034547 0.76859717 1.40851613 0.69839741\n",
      " 1.33278449 0.70444993 0.78563447 0.78058088 1.36086502 0.65444034\n",
      " 0.66925274 0.76114157 0.81418661 0.7034448  0.66911094 1.29170875\n",
      " 1.32578131 0.7588274  0.80606834 1.41331056 0.70716036 0.6612942\n",
      " 0.6580331  0.87534969 0.81808339 0.7982816  0.77034124 0.70140861\n",
      " 1.28979654 1.02568311 1.33249738 1.99448275 0.58969929 1.08297212\n",
      " 0.65720066 0.73199321 0.66386173 0.6191682  0.58414512 0.63714669\n",
      " 0.86637059 0.93262122 0.73750317 0.6629337  0.60224656 0.65490206\n",
      " 0.76130281 0.88059757 0.86438914 0.80085739 0.68673967 0.72674191\n",
      " 1.27882923 0.78378525 0.74098152 0.85824902 0.75922898 0.84148623\n",
      " 0.98670481 0.72744261 1.09212032 0.98759588 0.65151325 0.75229003\n",
      " 0.69818554 1.41779589 0.79084774 0.81110766 0.68311901 1.33338521\n",
      " 0.75320812 0.84382103 0.90798294 0.86444364 0.80843508 1.32346147\n",
      " 0.66642103 1.73020038 0.94164674 0.83561252 0.72237921 0.74600517\n",
      " 0.67042001 0.91647775 1.40747389 0.78147733 0.53085049 1.25048149\n",
      " 1.48700593 0.69956863 0.82663521 0.75750798 0.71840028 0.587339\n",
      " 1.32265628 0.76820885 1.3356158  1.21554429 1.79629017 1.29051164\n",
      " 0.81253254 0.85976083 0.76627646 0.7549921  0.57705181 0.60113494\n",
      " 0.85550492 0.57682795 0.6642183  0.57968508 0.81027668 0.70275905\n",
      " 0.78097456 1.00906091 0.79609847 0.70167822 0.60477587 0.79593744\n",
      " 0.87338049 0.63435217 0.64619925 1.48456278 0.69244383 1.43934681\n",
      " 0.80207382 0.89454957 0.84684076 0.79451151 0.67749334 0.87293821\n",
      " 1.36515879 0.79848808 0.7616035  0.61670621 0.61546065 0.80946958\n",
      " 0.7273112  0.74487473 0.8013472  0.7418841  1.15281148 0.64752494\n",
      " 0.73994322 0.82437656 1.49202815 0.6381918  0.83128006 0.73379539\n",
      " 0.95338493 1.29012788 0.80448295 0.76761813 0.58748066 0.62069056\n",
      " 2.01850534 1.0236521  0.86346041 0.75184499 1.39463627 0.68845737\n",
      " 0.68240407 0.52039992 0.76423417 0.77874513 0.77593498 0.69284093\n",
      " 0.59364815 0.82036986 0.76610701 1.48532726 0.55607994 0.65831093\n",
      " 0.6258537  0.64440141 0.50658247 0.57176834 0.65168286 0.73806652\n",
      " 1.97779745 0.65512022 0.59873204 1.51336747 1.86674714 0.6680938\n",
      " 0.71418956 0.83808179 1.48213722 0.61723691 0.56247629 0.49397502\n",
      " 0.67142405 1.34054599 0.71877683 0.82579075 0.6405987  0.686295\n",
      " 0.63867842 1.66641413 2.27746276 1.28308335 0.61626096 0.74712976\n",
      " 1.6610834  0.58190705 0.52375692 1.38268434 0.73714968 0.70054623\n",
      " 0.67075892 0.6081059  0.78708978 0.52619915 0.67617221 0.92431369\n",
      " 0.82582213 0.70742154 0.55633527 0.85911233 0.80834139 1.16848164\n",
      " 0.71798697 0.60616749 0.8492113  0.68999496 0.58383404 0.72007458\n",
      " 0.92115787 0.78987207 0.65877191 0.59957098 1.4114261  0.86579563\n",
      " 0.60165736 0.67517304 0.85354556 0.73625171 1.05652245 1.30284975\n",
      " 0.99342874 1.11588048 1.5499664  0.52610988 0.71854844 0.70732154\n",
      " 0.91891266 0.71131259 1.22606288 0.68729208 0.64981874 0.77394514\n",
      " 0.69106225 0.57617423 1.34367239 0.71400491 0.92044453 0.7229234\n",
      " 0.58677961 0.50227448 1.18052685 0.60991421 0.65335706 0.98499525\n",
      " 0.63152501 0.61380411 0.54181795 1.39223074 0.73883367 0.83985953\n",
      " 0.75455733 1.46283887 0.52507927 0.47587117 1.2226134  1.34747471\n",
      " 0.66142081 0.78869722 0.59865969 0.55955292 1.21227092 1.33581112\n",
      " 1.00730422 1.5882203  0.66597801 0.64030831 1.32120267 0.72609607\n",
      " 1.38600083 2.00657384 0.67896853 0.46698742 0.54410616 0.77842979\n",
      " 0.80647962 0.85263415 1.21917981 0.77441805 0.63611087 1.43516184\n",
      " 0.83857956 1.00380337 0.84546485 0.55535952 0.68295268 1.8231462\n",
      " 1.89145613 0.79602917 0.73079477 0.69512557 1.54746502 0.54732305\n",
      " 0.70634525 0.66264265 0.76665901 0.77901859 0.87659116 0.75558316\n",
      " 0.61471228 1.83885396 0.98883905 0.72574268 0.64841632 0.95665998\n",
      " 1.18707496 0.59439231 0.65208185 0.67127188 0.58768681 1.20716634\n",
      " 1.25243308 0.82820295 0.62875538 0.68274145 0.55077403 1.15072396\n",
      " 0.76307116 0.77349626 1.69739386 0.60210154 0.46773422 0.49328955\n",
      " 0.64656405 0.74451396 0.76435135 0.5471867  0.46644963 0.56386458\n",
      " 0.53165668 0.73532572 0.80884193 0.99416284 0.80091954 0.70042881\n",
      " 0.56042345 0.72198363 0.84652446 0.79864139 0.65711078 0.83645466\n",
      " 0.83044037 0.9599486  1.24265992 0.84955999 0.51995543 0.63897959\n",
      " 0.88486056 1.30059632 0.83158073 0.51606723 0.81892275 0.5710893\n",
      " 0.58821122 0.71239989 1.09682706 0.65242958 0.6470296  0.55307224\n",
      " 1.4078512  0.86656945 0.57894501 0.58942912 0.54506    0.57888555\n",
      " 0.80945376 0.66089198 0.46012381 0.88748601 0.61642089 0.82849139\n",
      " 1.29398617 0.77240789 0.65475895 0.62954713 0.6718992  0.69128292\n",
      " 0.79893985 1.03438505 0.59242484 0.62255158 0.56860525 0.55996138\n",
      " 0.9338384  0.78329686 0.77903287 0.77140434 0.55888254 0.94119454\n",
      " 0.62524387 1.2698945  1.22782409 0.8075279  0.72136219 0.60192519\n",
      " 0.53479725 1.10150734 0.88086726 0.74632839 0.78635314 0.99243241\n",
      " 0.67011446 0.70104079 0.80249657 0.58314962 0.58763939 0.62525509\n",
      " 0.73499229 0.73829443 0.73887687 1.02827285 0.77852402 0.7404536\n",
      " 0.48300539 0.68291315 0.77700707 0.70883039 0.85611322 0.7022164\n",
      " 0.61214876 0.96694161 0.77143854 0.51183494 0.65341772 0.50182148\n",
      " 0.63981923 0.7626668  0.73787488 0.50158634 0.63739864 0.5767209\n",
      " 0.94492528 0.76683953 0.78423067 0.69148206 0.47123216 0.82373516\n",
      " 0.60212248 0.56660579 0.58101875 0.63252558 1.07779506 1.20351014\n",
      " 1.03547207 0.60545692 0.44546185 0.75019812 0.7713252  0.87670141\n",
      " 0.75671207 0.52083642 0.5836506  0.66932603 0.53328859 0.93188262\n",
      " 0.78206758 0.98006411 0.53624869 0.62234608 0.64289562 0.85943337\n",
      " 1.02766693 0.8219215  0.77250115 0.53561519 0.54157825 0.67593565\n",
      " 0.49697722 0.76022192 1.42523866 0.82139554 0.59309941 0.59161343\n",
      " 0.44179134 0.7040953  1.19951404 1.9667159  0.87205184 0.76248265\n",
      " 0.81388998 0.63655468 0.5217213  0.48070926 0.75199904 0.81670801\n",
      " 0.78039641 0.58658977 0.61801749 0.78343162 0.80439039]\n"
     ]
    }
   ],
   "source": [
    "scaler = StandardScaler()\n",
    "\n",
    "standardized_X = scaler.fit_transform(X)\n",
    "\n",
    "#why so many diff variables to same matrix? why not using standardized?\n",
    "\n",
    "print(X)\n",
    "print(\"####\")\n",
    "print(standardized_X.mean(axis=1), standardized_X.std(axis=1))"
   ]
  },
  {
   "cell_type": "code",
   "execution_count": null,
   "metadata": {},
   "outputs": [],
   "source": []
  },
  {
   "cell_type": "code",
   "execution_count": 28,
   "metadata": {},
   "outputs": [],
   "source": [
    "rules_dataset=final_dataset.copy()\n",
    "rules_dataset['Sleep quality']=df_cleaned['Sleep quality']"
   ]
  },
  {
   "cell_type": "code",
   "execution_count": 29,
   "metadata": {},
   "outputs": [
    {
     "data": {
      "text/html": [
       "<div>\n",
       "<style scoped>\n",
       "    .dataframe tbody tr th:only-of-type {\n",
       "        vertical-align: middle;\n",
       "    }\n",
       "\n",
       "    .dataframe tbody tr th {\n",
       "        vertical-align: top;\n",
       "    }\n",
       "\n",
       "    .dataframe thead th {\n",
       "        text-align: right;\n",
       "    }\n",
       "</style>\n",
       "<table border=\"1\" class=\"dataframe\">\n",
       "  <thead>\n",
       "    <tr style=\"text-align: right;\">\n",
       "      <th></th>\n",
       "      <th>Start time in second</th>\n",
       "      <th>End time in second</th>\n",
       "      <th>Time in bed</th>\n",
       "      <th>Activity (steps)</th>\n",
       "      <th>Ate late</th>\n",
       "      <th>Worked out</th>\n",
       "      <th>Drank coffee</th>\n",
       "      <th>Drank tea</th>\n",
       "      <th>Stressful day</th>\n",
       "      <th>Day of week</th>\n",
       "    </tr>\n",
       "  </thead>\n",
       "  <tbody>\n",
       "    <tr>\n",
       "      <th>0</th>\n",
       "      <td>0.424926</td>\n",
       "      <td>1.007958</td>\n",
       "      <td>0.688555</td>\n",
       "      <td>-0.796776</td>\n",
       "      <td>-0.155722</td>\n",
       "      <td>-0.834257</td>\n",
       "      <td>-1.201468</td>\n",
       "      <td>-1.028594</td>\n",
       "      <td>-0.264507</td>\n",
       "      <td>-1.350606</td>\n",
       "    </tr>\n",
       "    <tr>\n",
       "      <th>1</th>\n",
       "      <td>0.167375</td>\n",
       "      <td>14.631531</td>\n",
       "      <td>-5.721825</td>\n",
       "      <td>-0.796776</td>\n",
       "      <td>-0.155722</td>\n",
       "      <td>-0.834257</td>\n",
       "      <td>-1.201468</td>\n",
       "      <td>-1.028594</td>\n",
       "      <td>3.780622</td>\n",
       "      <td>-0.865983</td>\n",
       "    </tr>\n",
       "    <tr>\n",
       "      <th>2</th>\n",
       "      <td>0.386287</td>\n",
       "      <td>0.738291</td>\n",
       "      <td>0.666599</td>\n",
       "      <td>-0.796776</td>\n",
       "      <td>-0.155722</td>\n",
       "      <td>-0.834257</td>\n",
       "      <td>-1.201468</td>\n",
       "      <td>-1.028594</td>\n",
       "      <td>-0.264507</td>\n",
       "      <td>-0.865983</td>\n",
       "    </tr>\n",
       "    <tr>\n",
       "      <th>3</th>\n",
       "      <td>0.355891</td>\n",
       "      <td>-0.400125</td>\n",
       "      <td>-0.091539</td>\n",
       "      <td>-0.796776</td>\n",
       "      <td>-0.155722</td>\n",
       "      <td>-0.834257</td>\n",
       "      <td>-1.201468</td>\n",
       "      <td>-1.028594</td>\n",
       "      <td>-0.264507</td>\n",
       "      <td>-0.381361</td>\n",
       "    </tr>\n",
       "    <tr>\n",
       "      <th>4</th>\n",
       "      <td>0.307335</td>\n",
       "      <td>-1.472872</td>\n",
       "      <td>-0.706101</td>\n",
       "      <td>-0.796776</td>\n",
       "      <td>-0.155722</td>\n",
       "      <td>-0.834257</td>\n",
       "      <td>0.832315</td>\n",
       "      <td>0.972201</td>\n",
       "      <td>-0.264507</td>\n",
       "      <td>0.103262</td>\n",
       "    </tr>\n",
       "    <tr>\n",
       "      <th>...</th>\n",
       "      <td>...</td>\n",
       "      <td>...</td>\n",
       "      <td>...</td>\n",
       "      <td>...</td>\n",
       "      <td>...</td>\n",
       "      <td>...</td>\n",
       "      <td>...</td>\n",
       "      <td>...</td>\n",
       "      <td>...</td>\n",
       "      <td>...</td>\n",
       "    </tr>\n",
       "    <tr>\n",
       "      <th>882</th>\n",
       "      <td>0.261139</td>\n",
       "      <td>0.556359</td>\n",
       "      <td>1.148561</td>\n",
       "      <td>-0.780705</td>\n",
       "      <td>-0.155722</td>\n",
       "      <td>-0.834257</td>\n",
       "      <td>-1.201468</td>\n",
       "      <td>-1.028594</td>\n",
       "      <td>-0.264507</td>\n",
       "      <td>-1.350606</td>\n",
       "    </tr>\n",
       "    <tr>\n",
       "      <th>883</th>\n",
       "      <td>0.557587</td>\n",
       "      <td>0.534291</td>\n",
       "      <td>-0.355446</td>\n",
       "      <td>-0.778409</td>\n",
       "      <td>-0.155722</td>\n",
       "      <td>-0.834257</td>\n",
       "      <td>-1.201468</td>\n",
       "      <td>-1.028594</td>\n",
       "      <td>-0.264507</td>\n",
       "      <td>-0.865983</td>\n",
       "    </tr>\n",
       "    <tr>\n",
       "      <th>884</th>\n",
       "      <td>0.183475</td>\n",
       "      <td>-0.111888</td>\n",
       "      <td>1.003477</td>\n",
       "      <td>0.154863</td>\n",
       "      <td>-0.155722</td>\n",
       "      <td>-0.834257</td>\n",
       "      <td>-1.201468</td>\n",
       "      <td>-1.028594</td>\n",
       "      <td>-0.264507</td>\n",
       "      <td>-0.381361</td>\n",
       "    </tr>\n",
       "    <tr>\n",
       "      <th>885</th>\n",
       "      <td>0.215545</td>\n",
       "      <td>0.366893</td>\n",
       "      <td>1.225624</td>\n",
       "      <td>1.084403</td>\n",
       "      <td>-0.155722</td>\n",
       "      <td>-0.834257</td>\n",
       "      <td>-1.201468</td>\n",
       "      <td>-1.028594</td>\n",
       "      <td>-0.264507</td>\n",
       "      <td>0.103262</td>\n",
       "    </tr>\n",
       "    <tr>\n",
       "      <th>886</th>\n",
       "      <td>0.411188</td>\n",
       "      <td>1.296195</td>\n",
       "      <td>0.987979</td>\n",
       "      <td>-0.139296</td>\n",
       "      <td>-0.155722</td>\n",
       "      <td>-0.834257</td>\n",
       "      <td>-1.201468</td>\n",
       "      <td>-1.028594</td>\n",
       "      <td>-0.264507</td>\n",
       "      <td>0.587885</td>\n",
       "    </tr>\n",
       "  </tbody>\n",
       "</table>\n",
       "<p>887 rows × 10 columns</p>\n",
       "</div>"
      ],
      "text/plain": [
       "     Start time in second  End time in second  Time in bed  Activity (steps)  \\\n",
       "0                0.424926            1.007958     0.688555         -0.796776   \n",
       "1                0.167375           14.631531    -5.721825         -0.796776   \n",
       "2                0.386287            0.738291     0.666599         -0.796776   \n",
       "3                0.355891           -0.400125    -0.091539         -0.796776   \n",
       "4                0.307335           -1.472872    -0.706101         -0.796776   \n",
       "..                    ...                 ...          ...               ...   \n",
       "882              0.261139            0.556359     1.148561         -0.780705   \n",
       "883              0.557587            0.534291    -0.355446         -0.778409   \n",
       "884              0.183475           -0.111888     1.003477          0.154863   \n",
       "885              0.215545            0.366893     1.225624          1.084403   \n",
       "886              0.411188            1.296195     0.987979         -0.139296   \n",
       "\n",
       "     Ate late  Worked out  Drank coffee  Drank tea  Stressful day  Day of week  \n",
       "0   -0.155722   -0.834257     -1.201468  -1.028594      -0.264507    -1.350606  \n",
       "1   -0.155722   -0.834257     -1.201468  -1.028594       3.780622    -0.865983  \n",
       "2   -0.155722   -0.834257     -1.201468  -1.028594      -0.264507    -0.865983  \n",
       "3   -0.155722   -0.834257     -1.201468  -1.028594      -0.264507    -0.381361  \n",
       "4   -0.155722   -0.834257      0.832315   0.972201      -0.264507     0.103262  \n",
       "..        ...         ...           ...        ...            ...          ...  \n",
       "882 -0.155722   -0.834257     -1.201468  -1.028594      -0.264507    -1.350606  \n",
       "883 -0.155722   -0.834257     -1.201468  -1.028594      -0.264507    -0.865983  \n",
       "884 -0.155722   -0.834257     -1.201468  -1.028594      -0.264507    -0.381361  \n",
       "885 -0.155722   -0.834257     -1.201468  -1.028594      -0.264507     0.103262  \n",
       "886 -0.155722   -0.834257     -1.201468  -1.028594      -0.264507     0.587885  \n",
       "\n",
       "[887 rows x 10 columns]"
      ]
     },
     "execution_count": 29,
     "metadata": {},
     "output_type": "execute_result"
    }
   ],
   "source": [
    "# adding stand values to variable names\n",
    "scaled_features_df = pd.DataFrame(standardized_X, index=final_dataset.index, columns=final_dataset.columns)\n",
    "scaled_features_df"
   ]
  },
  {
   "cell_type": "code",
   "execution_count": 30,
   "metadata": {},
   "outputs": [
    {
     "data": {
      "image/png": "[encoded data removed]",
      "text/plain": [
       "<Figure size 432x288 with 1 Axes>"
      ]
     },
     "metadata": {
      "needs_background": "light"
     },
     "output_type": "display_data"
    }
   ],
   "source": [
    "rul=rules_dataset['Time in bed'].hist(bins=60)"
   ]
  },
  {
   "cell_type": "code",
   "execution_count": 31,
   "metadata": {},
   "outputs": [],
   "source": [
    "sep=10 #pandas has built in binning? \n",
    "for i in range(sep, 101, sep):\n",
    "    rules_dataset[\"Sleep quality between \"+str(i - sep)+\"-\"+str(i)] = ((rules_dataset[\"Sleep quality\"] < i) & (rules_dataset[\"Sleep quality\"] > (i-sep))).apply(lambda x: int(x))"
   ]
  },
  {
   "cell_type": "code",
   "execution_count": 32,
   "metadata": {},
   "outputs": [
    {
     "data": {
      "text/plain": [
       "<AxesSubplot:>"
      ]
     },
     "execution_count": 32,
     "metadata": {},
     "output_type": "execute_result"
    },
    {
     "data": {
      "image/png": "[encoded data removed]",
      "text/plain": [
       "<Figure size 432x288 with 1 Axes>"
      ]
     },
     "metadata": {
      "needs_background": "light"
     },
     "output_type": "display_data"
    }
   ],
   "source": [
    "rules_dataset['Sleep quality'].hist(bins=sep)"
   ]
  },
  {
   "cell_type": "code",
   "execution_count": 33,
   "metadata": {},
   "outputs": [],
   "source": [
    "rules_dataset=rules_dataset.drop(['Start time in second','End time in second','Time in bed','Activity (steps)','Sleep quality','Day of week'],axis=1)"
   ]
  },
  {
   "cell_type": "code",
   "execution_count": 34,
   "metadata": {},
   "outputs": [],
   "source": [
    "#association rules\n",
    "# er = apriori(rules_dataset, min_support = 0.1, use_colnames = True, verbose = 1)\n",
    "# df_ar = association_rules(er, metric = \"confidence\", min_threshold = 0.2)\n",
    "# df_ar"
   ]
  },
  {
   "cell_type": "code",
   "execution_count": 122,
   "metadata": {},
   "outputs": [],
   "source": [
    "from math import floor\n",
    "sep=10\n",
    "y.apply(lambda x: floor(x/sep)*sep)"
   ]
  },
  {
   "cell_type": "markdown",
   "metadata": {},
   "source": [
    "# CV"
   ]
  },
  {
   "cell_type": "code",
   "execution_count": 125,
   "metadata": {},
   "outputs": [],
   "source": [
    "##### Warnings, maybe not have ?\n",
    "import warnings\n",
    "warnings.filterwarnings('ignore')"
   ]
  },
  {
   "cell_type": "code",
   "execution_count": 126,
   "metadata": {},
   "outputs": [],
   "source": [
    "#for testing the code:\n",
    "from sklearn import datasets\n",
    "iris = datasets.load_iris()\n",
    "X = iris.data[:, :2]\n",
    "y = iris.target\n"
   ]
  },
  {
   "cell_type": "code",
   "execution_count": 127,
   "metadata": {},
   "outputs": [
    {
     "data": {
      "text/plain": [
       "0      3\n",
       "1      0\n",
       "2      3\n",
       "3      2\n",
       "4      2\n",
       "      ..\n",
       "882    3\n",
       "883    3\n",
       "884    2\n",
       "885    3\n",
       "886    3\n",
       "Name: Sleep quality, Length: 887, dtype: int64"
      ]
     },
     "execution_count": 127,
     "metadata": {},
     "output_type": "execute_result"
    }
   ],
   "source": [
    "#our values standardized\n",
    "X=scaled_features_df.values\n",
    "y=pd.cut(df_cleaned['Sleep quality'], bins=4, labels=False)\n",
    "y"
   ]
  },
  {
   "cell_type": "markdown",
   "metadata": {},
   "source": [
    "#### One iteration:"
   ]
  },
  {
   "cell_type": "code",
   "execution_count": 128,
   "metadata": {},
   "outputs": [
    {
     "name": "stdout",
     "output_type": "stream",
     "text": [
      "0.590443686006826 0.6279863481228669 0.10580204778156997 0.5767918088737202\n"
     ]
    }
   ],
   "source": [
    "x_train,x_test, y_train, y_test = train_test_split(X, y, test_size=0.33)\n",
    "\n",
    "knn_model = KNeighborsClassifier(n_neighbors=3).fit(x_train, y_train)\n",
    "nb_model=GaussianNB().fit(x_train, y_train)\n",
    "sv_model = SVC().fit(x_train, y_train)\n",
    "dt_model=DecisionTreeClassifier().fit(x_train, y_train)\n",
    "\n",
    "print(dt_model.score(x_test,y_test),\n",
    "sv_model.score(x_test,y_test),\n",
    "nb_model.score(x_test,y_test),\n",
    "knn_model.score(x_test,y_test))\n"
   ]
  },
  {
   "cell_type": "markdown",
   "metadata": {},
   "source": [
    "## CV, before tuning"
   ]
  },
  {
   "cell_type": "code",
   "execution_count": 129,
   "metadata": {
    "pycharm": {
     "is_executing": true
    }
   },
   "outputs": [],
   "source": [
    "accuracy_list_K_nearest_neighbor =[]\n",
    "accuracy_list_naive_bayes =[]\n",
    "accuracy_list_support_vector =[]\n",
    "accuracy_list_decision_tree =[]\n",
    "\n"
   ]
  },
  {
   "cell_type": "code",
   "execution_count": 146,
   "metadata": {
    "pycharm": {
     "is_executing": true
    }
   },
   "outputs": [
    {
     "name": "stdout",
     "output_type": "stream",
     "text": [
      " accuracy for k-nn is: 0.6168900359076602\n",
      " accuracy for support vectors is: 0.6655765102436131\n",
      " accuracy for naive bayes is: 0.5028193965102925\n",
      " accuracy for decision trees is: 0.5987519233645254\n",
      " mean accuracy is: 0.5960094665065229\n",
      " best accuracy is: 0.6655765102436131\n"
     ]
    }
   ],
   "source": [
    "for i in range(100):\n",
    "    x_train,x_test, y_train, y_test = train_test_split(X, y, test_size=np.random.uniform(low=0.2,high=0.35))\n",
    "    \n",
    "    \"\"\"Fitting each model\"\"\"\n",
    "    knn_model = KNeighborsClassifier(n_neighbors=3).fit(x_train, y_train)\n",
    "    nb_model=GaussianNB().fit(x_train, y_train)\n",
    "    sv_model = SVC().fit(x_train, y_train)\n",
    "    dt_model=DecisionTreeClassifier().fit(x_train, y_train)\n",
    "\n",
    "    \"\"\"Appending accuracy\"\"\" \n",
    "    accuracy_list_K_nearest_neighbor.append(knn_model.score(x_test,y_test))\n",
    "    accuracy_list_naive_bayes.append(nb_model.score(x_test,y_test))\n",
    "    accuracy_list_support_vector.append(sv_model.score(x_test,y_test))\n",
    "    accuracy_list_decision_tree.append(dt_model.score(x_test,y_test))\n",
    "\n",
    "accuracies=(accuracy_list_K_nearest_neighbor,\n",
    "    accuracy_list_naive_bayes,\n",
    "    accuracy_list_support_vector,\n",
    "    accuracy_list_decision_tree)\n",
    "\n",
    "print(f' accuracy for k-nn is: {np.mean(accuracy_list_K_nearest_neighbor)}')\n",
    "print(f' accuracy for support vectors is: {np.mean(accuracy_list_support_vector)}')\n",
    "print(f' accuracy for naive bayes is: {np.mean(accuracy_list_naive_bayes)}')\n",
    "print(f' accuracy for decision trees is: {np.mean(accuracy_list_decision_tree)}')\n",
    "print(f' mean accuracy is: {np.mean([np.mean(x) for x in accuracies])}')\n",
    "print(f' best accuracy is: {max([np.mean(x) for x in accuracies])}')"
   ]
  },
  {
   "cell_type": "markdown",
   "metadata": {},
   "source": [
    "## Hyperparameterization"
   ]
  },
  {
   "cell_type": "code",
   "execution_count": 131,
   "metadata": {},
   "outputs": [
    {
     "name": "stdout",
     "output_type": "stream",
     "text": [
      "{'splitter': 'best', 'min_samples_leaf': 4, 'criterion': 'gini'} 0.5107296137339056\n",
      "{'criterion': 'gini', 'min_samples_leaf': 5, 'splitter': 'best'} 0.5493562231759657\n"
     ]
    }
   ],
   "source": [
    "#decision trees\n",
    "\n",
    "grid = {'criterion': ['gini', 'entropy', 'log_loss'],'splitter': [\"best\",\"random\"],'min_samples_leaf':[1,2,3,4,5]}\n",
    "classifier=DecisionTreeClassifier(random_state=42)\n",
    "grid_search = GridSearchCV(estimator=classifier, param_grid=grid, cv= 5)\n",
    "grid_search.fit(x_train, y_train)\n",
    "random_search = RandomizedSearchCV(estimator = classifier, param_distributions = grid, n_iter = 5, cv = 5, n_jobs = -1, verbose = 0)\n",
    "random_search.fit(x_train,y_train)\n",
    "\n",
    "print(random_search.best_params_,random_search.score(x_test,y_test)) \n",
    "print(grid_search.best_params_,grid_search.score(x_test,y_test))  "
   ]
  },
  {
   "cell_type": "code",
   "execution_count": 138,
   "metadata": {
    "pycharm": {
     "is_executing": true
    }
   },
   "outputs": [
    {
     "name": "stdout",
     "output_type": "stream",
     "text": [
      "{'weights': 'distance', 'p': 1, 'n_neighbors': 31, 'leaf_size': 33, 'algorithm': 'brute'} 0.5584415584415584\n",
      "{'algorithm': 'auto', 'leaf_size': 66, 'n_neighbors': 31, 'p': 1, 'weights': 'uniform'} 0.5844155844155844\n"
     ]
    },
    {
     "data": {
      "text/plain": [
       "\"{'weights': 'distance', 'p': 4, 'n_neighbors': 30, 'leaf_size': 133, 'algorithm': 'ball_tree'} 0.8532423208191127\\n{'algorithm': 'auto', 'leaf_size': 33, 'n_neighbors': 14, 'p': 1, 'weights': 'uniform'} 0.8532423208191127\""
      ]
     },
     "execution_count": 138,
     "metadata": {},
     "output_type": "execute_result"
    }
   ],
   "source": [
    "#knn, commented bc takes time \n",
    "grid = {'n_neighbors' : np.random.randint(1,50,10), \n",
    "        'weights':['uniform','distance'], \n",
    "        'algorithm':['auto','ball_tree','kd_tree','brute'], \n",
    "        'leaf_size':[int(x) for x in np.linspace(start = 0, stop = 300, num=10)],\n",
    "        'p':[1,2,3,4,5]}\n",
    "classifier = KNeighborsClassifier()\n",
    "grid_search = GridSearchCV(estimator=classifier, param_grid=grid, cv= 5)\n",
    "grid_search.fit(x_train, y_train)\n",
    "random_search = RandomizedSearchCV(estimator = classifier, param_distributions = grid, n_iter = 5, cv = 5, n_jobs = -1, verbose = 0)\n",
    "random_search.fit(x_train,y_train)\n",
    "\n",
    "print(random_search.best_params_,random_search.score(x_test,y_test)) # why is this 0.78 but next cell is 0.04\n",
    "print(grid_search.best_params_,grid_search.score(x_test,y_test)) # why so different? grid same always \n",
    "\n",
    "\"\"\"{'weights': 'distance', 'p': 4, 'n_neighbors': 30, 'leaf_size': 133, 'algorithm': 'ball_tree'} 0.8532423208191127\n",
    "{'algorithm': 'auto', 'leaf_size': 33, 'n_neighbors': 14, 'p': 1, 'weights': 'uniform'} 0.8532423208191127\"\"\"\n"
   ]
  },
  {
   "cell_type": "code",
   "execution_count": 147,
   "metadata": {
    "pycharm": {
     "is_executing": true
    }
   },
   "outputs": [
    {
     "name": "stdout",
     "output_type": "stream",
     "text": [
      "{'kernel': 'linear', 'gamma': 'scale', 'degree': 1} 0.6233333333333333\n",
      "{'degree': 1, 'gamma': 'scale', 'kernel': 'linear'} 0.6233333333333333\n"
     ]
    },
    {
     "data": {
      "text/plain": [
       "\"{'kernel': 'linear', 'gamma': 'auto', 'degree': 3} 0.8498293515358362\\n{'degree': 1, 'gamma': 'scale', 'kernel': 'linear'} 0.8498293515358362\""
      ]
     },
     "execution_count": 147,
     "metadata": {},
     "output_type": "execute_result"
    }
   ],
   "source": [
    "# SVC\n",
    "# Error \"X should be a square kernel matrix\"? : ## Ok precomputed was the problem\n",
    "grid = {'kernel': ['linear', 'poly', 'rbf', 'sigmoid'],'gamma': ['scale', 'auto'],'degree':[1,2,3,4]} # not inclded precomputed\n",
    "classifier=SVC()\n",
    "grid_search = GridSearchCV(estimator=classifier, param_grid=grid, cv= 5) \n",
    "grid_search.fit(x_train, y_train)\n",
    "random_search = RandomizedSearchCV(estimator = classifier, param_distributions = grid, n_iter = 5, cv = 5, n_jobs = -1, verbose = 0)\n",
    "random_search.fit(x_train,y_train)\n",
    "\n",
    "print(random_search.best_params_,random_search.score(x_test,y_test)) # why is this 0.78 but next cell is 0.04\n",
    "print(grid_search.best_params_,grid_search.score(x_test,y_test)) # why so different? grid same always \n",
    "\n",
    "\"\"\"{'kernel': 'linear', 'gamma': 'auto', 'degree': 3} 0.8498293515358362\n",
    "{'degree': 1, 'gamma': 'scale', 'kernel': 'linear'} 0.8498293515358362\"\"\""
   ]
  },
  {
   "cell_type": "code",
   "execution_count": 134,
   "metadata": {
    "pycharm": {
     "is_executing": true
    }
   },
   "outputs": [
    {
     "name": "stdout",
     "output_type": "stream",
     "text": [
      "{'var_smoothing': 0.657933224657568} 0.6995708154506438\n",
      "{'var_smoothing': 0.3511191734215131} 0.7081545064377682\n"
     ]
    },
    {
     "data": {
      "text/plain": [
       "\"{'var_smoothing': 1.0} 0.8498293515358362\\n{'var_smoothing': 1.0} 0.8498293515358362\""
      ]
     },
     "execution_count": 134,
     "metadata": {},
     "output_type": "execute_result"
    }
   ],
   "source": [
    "#NB\n",
    "grid = {'var_smoothing': np.logspace(0,-9, num=100)}\n",
    "classifier = GaussianNB()\n",
    "grid_search = GridSearchCV(estimator=classifier, param_grid=grid, cv= 5)\n",
    "grid_search.fit(x_train, y_train)\n",
    "random_search = RandomizedSearchCV(estimator = classifier, param_distributions = grid, n_iter = 5, cv = 5, n_jobs = -1, verbose = 0)\n",
    "random_search.fit(x_train,y_train)\n",
    "\n",
    "print(random_search.best_params_,random_search.score(x_test,y_test)) # why is this 0.78 but next cell is 0.04\n",
    "print(grid_search.best_params_,grid_search.score(x_test,y_test)) # why so different? grid same always \n",
    "\n",
    "\"\"\"{'var_smoothing': 1.0} 0.8498293515358362\n",
    "{'var_smoothing': 1.0} 0.8498293515358362\"\"\""
   ]
  },
  {
   "cell_type": "markdown",
   "metadata": {},
   "source": [
    "## CV, after tuning"
   ]
  },
  {
   "cell_type": "code",
   "execution_count": 135,
   "metadata": {
    "pycharm": {
     "is_executing": true
    }
   },
   "outputs": [],
   "source": [
    "accuracy_list_K_nearest_neighbor =[]\n",
    "accuracy_list_naive_bayes =[]\n",
    "accuracy_list_support_vector =[]\n",
    "accuracy_list_decision_tree =[]"
   ]
  },
  {
   "cell_type": "code",
   "execution_count": 144,
   "metadata": {
    "pycharm": {
     "is_executing": true
    }
   },
   "outputs": [
    {
     "name": "stdout",
     "output_type": "stream",
     "text": [
      " accuracy for k-nn is: 0.6208484215403596\n",
      " accuracy for support vectors is: 0.6672401738719853\n",
      " accuracy for naive bayes is: 0.6397018580586666\n",
      " accuracy for decision trees is: 0.6021251647353603\n",
      " mean accuracy is: 0.632478904551593\n",
      " best accuracy is: 0.6672401738719853\n"
     ]
    }
   ],
   "source": [
    "#for 4 bins we get:\n",
    "#{'var_smoothing': 0.3511191734215131} \n",
    "#{'kernel': 'linear', 'gamma': 'scale', 'degree': 1}\n",
    "#{'criterion': 'gini', 'min_samples_leaf': 5, 'splitter': 'best'}\n",
    "#{'algorithm': 'auto', 'leaf_size': 66, 'n_neighbors': 31, 'p': 1, 'weights': 'uniform'}\n",
    "\n",
    "\n",
    "for i in range(100): #Change after doing on real data \n",
    "    x_train,x_test, y_train, y_test = train_test_split(X, y, test_size=np.random.uniform(low=0.2,high=0.35))\n",
    "    \n",
    "    \"\"\"Fitting each model\"\"\"\n",
    "\n",
    "    knn_model = KNeighborsClassifier(weights='uniform', p=1, n_neighbors= 30,\n",
    "                                     leaf_size=66, algorithm='auto').fit(x_train, y_train)\n",
    "    nb_model=GaussianNB(var_smoothing= 0.3511191734215131).fit(x_train, y_train)\n",
    "    sv_model = SVC(degree=1, gamma='scale', kernel= 'linear').fit(x_train, y_train)\n",
    "    dt_model=DecisionTreeClassifier(criterion='gini', min_samples_leaf= 5, splitter='best').fit(x_train, y_train)\n",
    "\n",
    "    \"\"\"Appending accuracy\"\"\" \n",
    "    accuracy_list_K_nearest_neighbor.append(knn_model.score(x_test,y_test))\n",
    "    accuracy_list_naive_bayes.append(nb_model.score(x_test,y_test))\n",
    "    accuracy_list_support_vector.append(sv_model.score(x_test,y_test))\n",
    "    accuracy_list_decision_tree.append(dt_model.score(x_test,y_test))\n",
    "accuracies=(accuracy_list_K_nearest_neighbor,\n",
    "    accuracy_list_naive_bayes,\n",
    "    accuracy_list_support_vector,\n",
    "    accuracy_list_decision_tree)\n",
    "\n",
    "print(f' accuracy for k-nn is: {np.mean(accuracy_list_K_nearest_neighbor)}')\n",
    "print(f' accuracy for support vectors is: {np.mean(accuracy_list_support_vector)}')\n",
    "print(f' accuracy for naive bayes is: {np.mean(accuracy_list_naive_bayes)}')\n",
    "print(f' accuracy for decision trees is: {np.mean(accuracy_list_decision_tree)}')\n",
    "print(f' mean accuracy is: {np.mean([np.mean(x) for x in accuracies])}')\n",
    "print(f' best accuracy is: {max([np.mean(x) for x in accuracies])}')"
   ]
  },
  {
   "cell_type": "markdown",
   "metadata": {},
   "source": [
    "## Variable importance"
   ]
  },
  {
   "cell_type": "code",
   "execution_count": 142,
   "metadata": {
    "pycharm": {
     "is_executing": true
    }
   },
   "outputs": [
    {
     "name": "stdout",
     "output_type": "stream",
     "text": [
      "Original accuracy is 0.67\n",
      "Variable \"['Time in bed']\", accuracy when excluding is 0.578 and when excluding all else it is 0.627 \n",
      "Variable \"['Start time in second']\", accuracy when excluding is 0.692 and when excluding all else it is 0.551 \n",
      "Variable \"['End time in second']\", accuracy when excluding is 0.665 and when excluding all else it is 0.551 \n",
      "Variable \"['Activity (steps)']\", accuracy when excluding is 0.627 and when excluding all else it is 0.611 \n"
     ]
    }
   ],
   "source": [
    "#np.random.seed(42) \n",
    "\n",
    "X_train,X_test, y_train, y_test = train_test_split(scaled_features_df, y, test_size=np.random.uniform(low=0.2,high=0.35))\n",
    "\n",
    "\n",
    "test_variables=[['Time in bed'],['Start time in second'],['End time in second'],['Activity (steps)']]\n",
    "accuracy_list_support_vector_exl=[]\n",
    "accuracy_list_support_vector_incl=[]\n",
    "\n",
    "sv_model_org = SVC(degree=1, gamma='scale', kernel= 'rbf').fit(X_train, y_train)\n",
    "org_score=sv_model_org.score(X_test,y_test)\n",
    "\n",
    "for i in test_variables:\n",
    "    x_train=X_train.drop(columns=i)\n",
    "    x_test=X_test.drop(columns=i)    \n",
    "    \n",
    "    sv_model_e = SVC(degree=1, gamma='scale', kernel= 'rbf').fit(x_train, y_train)\n",
    "    accuracy_list_support_vector_exl.append(sv_model_e.score(x_test,y_test))\n",
    "\n",
    "for i in test_variables:\n",
    "    x_train=X_train[i]\n",
    "    x_test=X_test[i]\n",
    "\n",
    "    sv_model_i = SVC(degree=1, gamma='scale', kernel= 'rbf').fit(x_train, y_train)\n",
    "    accuracy_list_support_vector_incl.append(sv_model_i.score(x_test,y_test))\n",
    "\n",
    "print(f\"Original accuracy is {round(org_score,3)}\")\n",
    "for i,var in enumerate(test_variables):\n",
    "    print(f'Variable \"{var}\", accuracy when excluding is {round(accuracy_list_support_vector_exl[i],3)} and when excluding all else it is {round(accuracy_list_support_vector_incl[i],3)} ')\n",
    "\n"
   ]
  },
  {
   "cell_type": "code",
   "execution_count": null,
   "metadata": {},
   "outputs": [],
   "source": []
  },
  {
   "cell_type": "code",
   "execution_count": null,
   "metadata": {},
   "outputs": [],
   "source": []
  }
 ],
 "metadata": {
  "kernelspec": {
   "display_name": "Python 3 (ipykernel)",
   "language": "python",
   "name": "python3"
  },
  "language_info": {
   "codemirror_mode": {
    "name": "ipython",
    "version": 3
   },
   "file_extension": ".py",
   "mimetype": "text/x-python",
   "name": "python",
   "nbconvert_exporter": "python",
   "pygments_lexer": "ipython3",
   "version": "3.9.7"
  },
  "vscode": {
   "interpreter": {
    "hash": "6bb320ed30921271c547ce806421a1d63fc8bdcb5afcfb5a86788136de7e5f34"
   }
  }
 },
 "nbformat": 4,
 "nbformat_minor": 1
}
