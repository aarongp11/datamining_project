{
 "cells": [
  {
   "cell_type": "code",
   "execution_count": null,
   "outputs": [],
   "source": [
    "import pandas as pd\n",
    "import numpy as np\n",
    "import seaborn as sns\n",
    "import time\n",
    "import datetime\n",
    "from matplotlib import pyplot as plt\n",
    "from sklearn.preprocessing import StandardScaler\n",
    "from mlxtend.frequent_patterns import apriori, association_rules"
   ],
   "metadata": {
    "collapsed": false,
    "pycharm": {
     "name": "#%%\n"
    }
   }
  },
  {
   "cell_type": "code",
   "execution_count": null,
   "outputs": [],
   "source": [
    "import numpy as np\n",
    "import pandas as pd\n",
    "\n",
    "#models\n",
    "from sklearn. neighbors import KNeighborsClassifier\n",
    "from sklearn.naive_bayes import GaussianNB\n",
    "from sklearn.tree import DecisionTreeClassifier\n",
    "from sklearn.decomposition import PCA\n",
    "\n",
    "\n",
    "from sklearn.svm import SVC\n",
    "from sklearn.pipeline import make_pipeline\n",
    "from sklearn.preprocessing import StandardScaler\n",
    "\n",
    "#for CV\n",
    "from sklearn.model_selection import train_test_split, RandomizedSearchCV, GridSearchCV #CV?\n",
    "\n",
    "from sklearn.metrics import classification_report, confusion_matrix, ConfusionMatrixDisplay\n",
    "\n",
    "#model comparison\n",
    "from sklearn import model_selection\n",
    "from sklearn.metrics import confusion_matrix\n"
   ],
   "metadata": {
    "collapsed": false,
    "pycharm": {
     "name": "#%%\n"
    }
   }
  },
  {
   "cell_type": "markdown",
   "source": [
    "# Loading the data"
   ],
   "metadata": {
    "collapsed": false,
    "pycharm": {
     "name": "#%% md\n"
    }
   }
  },
  {
   "cell_type": "code",
   "execution_count": null,
   "outputs": [],
   "source": [
    "df = pd.read_csv('./data/sleepdata.csv',delimiter=\";\")\n",
    "df"
   ],
   "metadata": {
    "collapsed": false,
    "pycharm": {
     "name": "#%%\n"
    }
   }
  },
  {
   "cell_type": "markdown",
   "source": [
    "We display the  data"
   ],
   "metadata": {
    "collapsed": false,
    "pycharm": {
     "name": "#%% md\n"
    }
   }
  },
  {
   "cell_type": "code",
   "execution_count": null,
   "outputs": [],
   "source": [
    "df.info()"
   ],
   "metadata": {
    "collapsed": false,
    "pycharm": {
     "name": "#%%\n"
    }
   }
  },
  {
   "cell_type": "code",
   "execution_count": null,
   "outputs": [],
   "source": [
    "df.head()"
   ],
   "metadata": {
    "collapsed": false,
    "pycharm": {
     "name": "#%%\n"
    }
   }
  },
  {
   "cell_type": "markdown",
   "source": [
    "As we can see in the graph the columns \"heart rate\" and \"Wake up\" are mostly null. However, the wake up column is not important for predicting the result of sleep quality. Because the mood when you wake up is a consequence of the sleep quality and not the opposite and the heart rate is 86% null values so it is not possible to extract information from that column."
   ],
   "metadata": {
    "collapsed": false,
    "pycharm": {
     "name": "#%% md\n"
    }
   }
  },
  {
   "cell_type": "markdown",
   "source": [
    "# Cleaning the data"
   ],
   "metadata": {
    "collapsed": false,
    "pycharm": {
     "name": "#%% md\n"
    }
   }
  },
  {
   "cell_type": "code",
   "execution_count": null,
   "outputs": [],
   "source": [
    "sns.heatmap(df.isnull(),yticklabels=False,cbar=False).set(title='Values of the dataset that are null')"
   ],
   "metadata": {
    "collapsed": false,
    "pycharm": {
     "name": "#%%\n"
    }
   }
  },
  {
   "cell_type": "markdown",
   "source": [
    "As we can see in the graph the columns “heart rate” and “Wake up” are mostly null. However, the wake up column is not important for predicting the result of sleep quality. Because the mood when you wake up is a consequence of the sleep quality and not the opposite and the heart rate is 86% null values so it is not possible to extract information from that column."
   ],
   "metadata": {
    "collapsed": false,
    "pycharm": {
     "name": "#%% md\n"
    }
   }
  },
  {
   "cell_type": "code",
   "execution_count": null,
   "outputs": [],
   "source": [
    "#Drop the columns 'Wake up' and 'Heart rate'\n",
    "df_cleaned=df.drop(columns=['Wake up','Heart rate'])"
   ],
   "metadata": {
    "collapsed": false,
    "pycharm": {
     "name": "#%%\n"
    }
   }
  },
  {
   "cell_type": "markdown",
   "source": [
    "Another colum with lots of nulls is the column sleep notes but in this case null means that there are no extra notes for that nigth."
   ],
   "metadata": {
    "collapsed": false,
    "pycharm": {
     "name": "#%% md\n"
    }
   }
  },
  {
   "cell_type": "code",
   "execution_count": null,
   "outputs": [],
   "source": [
    "df_cleaned['Sleep Notes'].fillna(value = '', inplace = True)"
   ],
   "metadata": {
    "collapsed": false,
    "pycharm": {
     "name": "#%%\n"
    }
   }
  },
  {
   "cell_type": "code",
   "execution_count": null,
   "outputs": [],
   "source": [
    "sns.heatmap(df_cleaned.isnull(),yticklabels=False,cbar=False).set(title='Values of the dataset that are null')"
   ],
   "metadata": {
    "collapsed": false,
    "pycharm": {
     "name": "#%%\n"
    }
   }
  },
  {
   "cell_type": "markdown",
   "source": [
    "Transforming the 'Start' and 'End' columns to datetime type and the 'Time in bed' to seconds."
   ],
   "metadata": {
    "collapsed": false,
    "pycharm": {
     "name": "#%% md\n"
    }
   }
  },
  {
   "cell_type": "code",
   "execution_count": null,
   "outputs": [],
   "source": [
    "df_cleaned['Start'] = pd.to_datetime(df_cleaned['Start'])\n",
    "df_cleaned['End'] = pd.to_datetime(df_cleaned['End'])\n",
    "df_cleaned['Time in bed'] = (df_cleaned['End'] - df_cleaned['Start']).astype('timedelta64[s]')\n",
    "df_cleaned['Sleep quality'] = df_cleaned['Sleep quality'].apply(lambda x: np.nan if x in ['-'] else x[:-1]).astype(int)\n",
    "df_cleaned['Start time'] = pd.Series([val.time() for val in df_cleaned['Start']])\n",
    "df_cleaned['End time'] = pd.Series([val.time() for val in df_cleaned['End']])\n",
    "df_cleaned['Start time in second'] = df_cleaned['Start'].apply(lambda x: (x.hour*60+x.minute)*60 + x.second)\n",
    "df_cleaned['End time in second'] = df_cleaned['End'].apply(lambda x: (x.hour*60+x.minute)*60 + x.second)"
   ],
   "metadata": {
    "collapsed": false,
    "pycharm": {
     "name": "#%%\n"
    }
   }
  },
  {
   "cell_type": "code",
   "execution_count": null,
   "outputs": [],
   "source": [
    "df_cleaned"
   ],
   "metadata": {
    "collapsed": false,
    "pycharm": {
     "name": "#%%\n"
    }
   }
  },
  {
   "cell_type": "code",
   "execution_count": null,
   "outputs": [],
   "source": [
    "sleep_notes_values=np.unique(df_cleaned['Sleep Notes'].apply(lambda x: x.split(':')).sum())\n",
    "sleep_notes_values=sleep_notes_values[1:]\n",
    "print(\"All the different values for the Sleep notes: \"+str(sleep_notes_values))"
   ],
   "metadata": {
    "collapsed": false,
    "pycharm": {
     "name": "#%%\n"
    }
   }
  },
  {
   "cell_type": "markdown",
   "source": [
    "Transform the categorical of 'Sleep notes' into dummy/indicator variables."
   ],
   "metadata": {
    "collapsed": false,
    "pycharm": {
     "name": "#%% md\n"
    }
   }
  },
  {
   "cell_type": "code",
   "execution_count": null,
   "outputs": [],
   "source": [
    "for v in sleep_notes_values:\n",
    "    df_cleaned[v] = df_cleaned['Sleep Notes'].apply(lambda x: v in x).astype(int)"
   ],
   "metadata": {
    "collapsed": false,
    "pycharm": {
     "name": "#%%\n"
    }
   }
  },
  {
   "cell_type": "code",
   "execution_count": null,
   "outputs": [],
   "source": [
    "df_cleaned"
   ],
   "metadata": {
    "collapsed": false,
    "pycharm": {
     "name": "#%%\n"
    }
   }
  },
  {
   "cell_type": "code",
   "execution_count": null,
   "outputs": [],
   "source": [
    "grouped_df = df_cleaned[['Sleep quality', 'Drank tea', 'Drank coffee', 'Worked out', 'Ate late', 'Stressful day']].groupby(['Drank tea', 'Drank coffee', 'Worked out', 'Ate late', 'Stressful day']).mean()\n",
    "grouped_df"
   ],
   "metadata": {
    "collapsed": false,
    "pycharm": {
     "name": "#%%\n"
    }
   }
  },
  {
   "cell_type": "markdown",
   "source": [
    "Data grouped by the different sleeping"
   ],
   "metadata": {
    "collapsed": false,
    "pycharm": {
     "name": "#%% md\n"
    }
   }
  },
  {
   "cell_type": "code",
   "execution_count": null,
   "outputs": [],
   "source": [
    "df_cleaned['Day of week'] = [x.weekday() for x in df_cleaned['Start']]\n",
    "df_cleaned_days_week=df_cleaned.copy()\n",
    "df_cleaned_days_week['Day of week'] = df_cleaned['Day of week'].replace({0:'Monday', 1:'Tuesday', 2:'Wednesday', 3:'Thursday', 4:'Friday', 5:'Saturday', 6:'Sunday'})"
   ],
   "metadata": {
    "collapsed": false,
    "pycharm": {
     "name": "#%%\n"
    }
   }
  },
  {
   "cell_type": "code",
   "execution_count": null,
   "outputs": [],
   "source": [
    "sns.countplot(x = 'Day of week', hue = 'Worked out', data = df_cleaned_days_week).set(title='Working out in the week')"
   ],
   "metadata": {
    "collapsed": false,
    "pycharm": {
     "name": "#%%\n"
    }
   }
  },
  {
   "cell_type": "code",
   "execution_count": null,
   "outputs": [],
   "source": [
    "sns.countplot(x = 'Day of week', hue = 'Drank coffee', data = df_cleaned_days_week).set(title='Working out in the week')"
   ],
   "metadata": {
    "collapsed": false,
    "pycharm": {
     "name": "#%%\n"
    }
   }
  },
  {
   "cell_type": "code",
   "execution_count": null,
   "outputs": [],
   "source": [
    "sns.countplot(x = 'Day of week', hue = 'Drank tea', data = df_cleaned_days_week).set(title='Drinking tea out in the week')"
   ],
   "metadata": {
    "collapsed": false,
    "pycharm": {
     "name": "#%%\n"
    }
   }
  },
  {
   "cell_type": "code",
   "execution_count": null,
   "outputs": [],
   "source": [
    "sns.countplot(x = 'Day of week', hue = 'Ate late', data = df_cleaned_days_week).set(title='Eating late in the week')"
   ],
   "metadata": {
    "collapsed": false,
    "pycharm": {
     "name": "#%%\n"
    }
   }
  },
  {
   "cell_type": "code",
   "execution_count": null,
   "outputs": [],
   "source": [
    "sns.countplot(x = 'Day of week', hue = 'Stressful day', data = df_cleaned_days_week).set(title='Stressful day in the week')"
   ],
   "metadata": {
    "collapsed": false,
    "pycharm": {
     "name": "#%%\n"
    }
   }
  },
  {
   "cell_type": "code",
   "execution_count": null,
   "outputs": [],
   "source": [
    "final_dataset=df_cleaned[['Start time in second','End time in second','Time in bed','Activity (steps)','Ate late','Worked out','Drank coffee','Drank tea','Stressful day','Day of week']]\n",
    "final_dataset.info()"
   ],
   "metadata": {
    "collapsed": false,
    "pycharm": {
     "name": "#%%\n"
    }
   }
  },
  {
   "cell_type": "code",
   "execution_count": null,
   "outputs": [],
   "source": [
    "y=df_cleaned['Sleep quality']\n",
    "X=final_dataset.values\n",
    "labels=['Start time in second','End time in second','Time in bed','Activity (steps)','Ate late','Worked out','Drank coffee','Drank tea','Stressful day','Day of week']"
   ],
   "metadata": {
    "collapsed": false,
    "pycharm": {
     "name": "#%%\n"
    }
   }
  },
  {
   "cell_type": "code",
   "execution_count": null,
   "outputs": [],
   "source": [
    "for i in range(len(labels)):\n",
    "    feat=labels[i]\n",
    "    fig, ax = plt.subplots(1,2)\n",
    "    ax[0].boxplot(X[:,i])\n",
    "    ax[1].hist(X[:,i])\n",
    "    ax[0].set_title(feat)\n",
    "    plt.show()"
   ],
   "metadata": {
    "collapsed": false,
    "pycharm": {
     "name": "#%%\n"
    }
   }
  },
  {
   "cell_type": "code",
   "execution_count": null,
   "outputs": [],
   "source": [
    "sns.heatmap(df_cleaned.corr()).set(title='Correlation matrix of the final data')"
   ],
   "metadata": {
    "collapsed": false,
    "pycharm": {
     "name": "#%%\n"
    }
   }
  },
  {
   "cell_type": "code",
   "execution_count": null,
   "outputs": [],
   "source": [
    "#Scaling the data\n",
    "scaler = StandardScaler()\n",
    "\n",
    "standardized_X = scaler.fit_transform(X)\n",
    "\n",
    "print(X)\n",
    "print(\"####\")\n",
    "print(standardized_X.mean(axis=1), standardized_X.std(axis=1))"
   ],
   "metadata": {
    "collapsed": false,
    "pycharm": {
     "name": "#%%\n"
    }
   }
  },
  {
   "cell_type": "markdown",
   "source": [
    "We have done PCA and association rules despite we didn't include this in the project report."
   ],
   "metadata": {
    "collapsed": false,
    "pycharm": {
     "name": "#%% md\n"
    }
   }
  },
  {
   "cell_type": "markdown",
   "source": [
    "# PCA"
   ],
   "metadata": {
    "collapsed": false,
    "pycharm": {
     "name": "#%% md\n"
    }
   }
  },
  {
   "cell_type": "code",
   "execution_count": null,
   "outputs": [],
   "source": [
    "y_bins=pd.cut(df_cleaned['Sleep quality'], bins=4, labels=False)\n",
    "\n",
    "n_components=2\n",
    "pca = PCA(n_components=n_components)\n",
    "\n",
    "pca_features = pca.fit_transform(standardized_X)\n",
    "\n",
    "print('Shape before PCA: ', standardized_X.shape)\n",
    "print('Shape after PCA: ', pca_features.shape)\n",
    "\n",
    "pca_df = pd.DataFrame(\n",
    "    data=pca_features,\n",
    "    columns=['PC1', 'PC2'])\n",
    "\n",
    "target_names = {\n",
    "    0:\"Between 0 and 25\",\n",
    "    1:\"Between 26 and 50\",\n",
    "    2:\"Between 51 and 75\",\n",
    "    3:\"Between 76 and 100\"\n",
    "}\n",
    "\n",
    "pca_df['target'] = y_bins\n",
    "pca_df['target'] = pca_df['target'].map(target_names)\n",
    "\n",
    "print(pca_df.head())"
   ],
   "metadata": {
    "collapsed": false,
    "pycharm": {
     "name": "#%%\n"
    }
   }
  },
  {
   "cell_type": "code",
   "execution_count": null,
   "outputs": [],
   "source": [
    "sns.set()\n",
    "\n",
    "sns.lmplot(\n",
    "    x='PC1',\n",
    "    y='PC2',\n",
    "    data=pca_df,\n",
    "    hue='target',\n",
    "    fit_reg=False,\n",
    "    legend=True,\n",
    ")\n",
    "\n",
    "plt.title('2D PCA Graph')\n",
    "plt.show()"
   ],
   "metadata": {
    "collapsed": false,
    "pycharm": {
     "name": "#%%\n"
    }
   }
  },
  {
   "cell_type": "code",
   "execution_count": null,
   "outputs": [],
   "source": [
    "loadings = pca.components_\n",
    "\n",
    "n_features = pca.n_features_\n",
    "\n",
    "feature_names = labels\n",
    "\n",
    "pc_list = [f'PC{i}' for i in list(range(1, n_features + 1))]\n",
    "\n",
    "pc_loadings = dict(zip(pc_list, loadings))\n",
    "\n",
    "loadings_df = pd.DataFrame.from_dict(pc_loadings)\n",
    "loadings_df['feature_names'] = feature_names\n",
    "loadings_df = loadings_df.set_index('feature_names')\n",
    "\n",
    "xs = loadings[0]\n",
    "ys = loadings[1]\n",
    "\n",
    "for i, varnames in enumerate(feature_names):\n",
    "    plt.scatter(xs[i], ys[i], s=200)\n",
    "    plt.arrow(\n",
    "        0, 0,\n",
    "        xs[i],\n",
    "        ys[i],\n",
    "        color='r',\n",
    "        head_width=0.01\n",
    "    )\n",
    "    plt.text(xs[i], ys[i], varnames)\n",
    "\n",
    "xticks = np.linspace(-0.8, 0.8, num=5)\n",
    "yticks = np.linspace(-0.8, 0.8, num=5)\n",
    "plt.xticks(xticks)\n",
    "plt.yticks(yticks)\n",
    "plt.xlabel('PC1')\n",
    "plt.ylabel('PC2')\n",
    "\n",
    "plt.title('2D Loading plot with vectors')\n",
    "plt.show()"
   ],
   "metadata": {
    "collapsed": false,
    "pycharm": {
     "name": "#%%\n"
    }
   }
  },
  {
   "cell_type": "markdown",
   "source": [
    "# Association rules"
   ],
   "metadata": {
    "collapsed": false,
    "pycharm": {
     "name": "#%% md\n"
    }
   }
  },
  {
   "cell_type": "code",
   "execution_count": null,
   "outputs": [],
   "source": [
    "rules_dataset=final_dataset.copy()\n",
    "rules_dataset['Sleep quality']=df_cleaned['Sleep quality']"
   ],
   "metadata": {
    "collapsed": false,
    "pycharm": {
     "name": "#%%\n"
    }
   }
  },
  {
   "cell_type": "code",
   "execution_count": null,
   "outputs": [],
   "source": [
    "scaled_features_df = pd.DataFrame(standardized_X, index=final_dataset.index, columns=final_dataset.columns)"
   ],
   "metadata": {
    "collapsed": false,
    "pycharm": {
     "name": "#%%\n"
    }
   }
  },
  {
   "cell_type": "code",
   "execution_count": null,
   "outputs": [],
   "source": [
    "rules_dataset[\"Sleep quality\"]=pd.cut(df_cleaned['Sleep quality'], bins=4, labels=False)\n",
    "target_names = {\n",
    "    0:\"Between 0 and 25\",\n",
    "    1:\"Between 26 and 50\",\n",
    "    2:\"Between 51 and 75\",\n",
    "    3:\"Between 76 and 100\"\n",
    "}\n",
    "rules_dataset[\"Sleep quality\"]=rules_dataset[\"Sleep quality\"].map(target_names)"
   ],
   "metadata": {
    "collapsed": false,
    "pycharm": {
     "name": "#%%\n"
    }
   }
  },
  {
   "cell_type": "code",
   "execution_count": null,
   "outputs": [],
   "source": [
    "rules_dataset"
   ],
   "metadata": {
    "collapsed": false,
    "pycharm": {
     "name": "#%%\n"
    }
   }
  },
  {
   "cell_type": "code",
   "execution_count": null,
   "outputs": [],
   "source": [
    "rules_dataset['Sleep quality'].hist()"
   ],
   "metadata": {
    "collapsed": false,
    "pycharm": {
     "name": "#%%\n"
    }
   }
  },
  {
   "cell_type": "code",
   "execution_count": null,
   "outputs": [],
   "source": [
    "rules_dataset=pd.get_dummies(rules_dataset,columns=['Sleep quality'])\n",
    "rules_dataset=rules_dataset.drop(['Start time in second','End time in second','Time in bed','Activity (steps)','Day of week'],axis=1)"
   ],
   "metadata": {
    "collapsed": false,
    "pycharm": {
     "name": "#%%\n"
    }
   }
  },
  {
   "cell_type": "code",
   "execution_count": null,
   "outputs": [],
   "source": [
    "er = apriori(rules_dataset, min_support = 0.1, use_colnames = True, verbose = 1)\n",
    "df_ar = association_rules(er, metric = \"confidence\", min_threshold = 0.2)\n",
    "df_ar"
   ],
   "metadata": {
    "collapsed": false,
    "pycharm": {
     "name": "#%%\n"
    }
   }
  },
  {
   "cell_type": "markdown",
   "source": [],
   "metadata": {
    "collapsed": false,
    "pycharm": {
     "name": "#%% md\n"
    }
   }
  },
  {
   "cell_type": "markdown",
   "metadata": {
    "pycharm": {
     "name": "#%% md\n"
    }
   },
   "source": [
    "# CV"
   ]
  },
  {
   "cell_type": "code",
   "execution_count": 468,
   "metadata": {
    "pycharm": {
     "name": "#%%\n"
    }
   },
   "outputs": [],
   "source": [
    "##### Warnings, maybe not have ?\n",
    "import warnings\n",
    "warnings.filterwarnings('ignore')"
   ]
  },
  {
   "cell_type": "code",
   "execution_count": 469,
   "metadata": {
    "pycharm": {
     "name": "#%%\n"
    }
   },
   "outputs": [],
   "source": [
    "#for testing the code:\n",
    "from sklearn import datasets\n",
    "iris = datasets.load_iris()\n",
    "X = iris.data[:, :2]\n",
    "y = iris.target"
   ]
  },
  {
   "cell_type": "code",
   "execution_count": 470,
   "metadata": {
    "pycharm": {
     "name": "#%%\n"
    }
   },
   "outputs": [
    {
     "name": "stdout",
     "output_type": "stream",
     "text": [
      "0     22\n",
      "1     22\n",
      "2    356\n",
      "3    487\n",
      "Name: Sleep quality, dtype: int64\n"
     ]
    }
   ],
   "source": [
    "#our values standardized\n",
    "X=scaled_features_df.values\n",
    "y=pd.cut(df_cleaned['Sleep quality'], bins=4, labels=False)\n",
    "bin_counts = y.value_counts().sort_index()\n",
    "print(bin_counts)"
   ]
  },
  {
   "cell_type": "markdown",
   "metadata": {
    "pycharm": {
     "name": "#%% md\n"
    }
   },
   "source": [
    "#### One iteration:"
   ]
  },
  {
   "cell_type": "code",
   "execution_count": 471,
   "metadata": {
    "pycharm": {
     "name": "#%%\n"
    }
   },
   "outputs": [
    {
     "name": "stdout",
     "output_type": "stream",
     "text": [
      "0.5802047781569966 0.5870307167235495 0.09556313993174062 0.5733788395904437\n"
     ]
    }
   ],
   "source": [
    "x_train,x_test, y_train, y_test = train_test_split(X, y, test_size=0.33)\n",
    "\n",
    "weigths=len(y_train) / (4 * np.bincount(y_train))#weigths if the classes. We use weigths because the data is not balanced\n",
    "sample_weight=y_train.map(dict(zip([0,1,2,3], weigths)))\n",
    "\n",
    "knn_model = KNeighborsClassifier(n_neighbors=3).fit(x_train, y_train)\n",
    "nb_model=GaussianNB().fit(x_train, y_train,sample_weight)\n",
    "sv_model = SVC(class_weight='balanced').fit(x_train, y_train)\n",
    "dt_model=DecisionTreeClassifier(class_weight='balanced').fit(x_train, y_train)\n",
    "\n",
    "print(dt_model.score(x_test,y_test),\n",
    "      sv_model.score(x_test,y_test),\n",
    "      nb_model.score(x_test,y_test),\n",
    "      knn_model.score(x_test,y_test))\n"
   ]
  },
  {
   "cell_type": "markdown",
   "metadata": {
    "pycharm": {
     "name": "#%% md\n"
    }
   },
   "source": [
    "## CV, before tuning"
   ]
  },
  {
   "cell_type": "code",
   "execution_count": 472,
   "metadata": {
    "pycharm": {
     "name": "#%%\n"
    }
   },
   "outputs": [],
   "source": [
    "accuracy_list_K_nearest_neighbor =[]\n",
    "accuracy_list_naive_bayes =[]\n",
    "accuracy_list_support_vector =[]\n",
    "accuracy_list_decision_tree =[]"
   ]
  },
  {
   "cell_type": "code",
   "execution_count": 473,
   "metadata": {
    "pycharm": {
     "name": "#%%\n"
    }
   },
   "outputs": [
    {
     "name": "stdout",
     "output_type": "stream",
     "text": [
      " accuracy for k-nn is: 0.6031026330410344\n",
      " accuracy for support vectors is: 0.5953451565738435\n",
      " accuracy for naive bayes is: 0.08766396841034275\n",
      " accuracy for decision trees is: 0.5819730789736471\n",
      " mean accuracy is: 0.4670212092497169\n",
      " best accuracy is: 0.6031026330410344\n"
     ]
    }
   ],
   "source": [
    "for i in range(100):\n",
    "    x_train,x_test, y_train, y_test = train_test_split(X, y, test_size=np.random.uniform(low=0.2,high=0.35))\n",
    "    weigths=len(y_train) / (4 * np.bincount(y_train))#weigths if the classes. We use weigths because the data is not balanced\n",
    "    sample_weight=y_train.map(dict(zip([0,1,2,3], weigths)))\n",
    "\n",
    "    \"\"\"Fitting each model\"\"\"\n",
    "    knn_model = KNeighborsClassifier(n_neighbors=3).fit(x_train, y_train)\n",
    "    nb_model=GaussianNB().fit(x_train, y_train,sample_weight)\n",
    "    sv_model = SVC(class_weight='balanced').fit(x_train, y_train)\n",
    "    dt_model=DecisionTreeClassifier(class_weight='balanced').fit(x_train, y_train)\n",
    "\n",
    "    \"\"\"Appending accuracy\"\"\" \n",
    "    accuracy_list_K_nearest_neighbor.append(knn_model.score(x_test,y_test))\n",
    "    accuracy_list_naive_bayes.append(nb_model.score(x_test,y_test))\n",
    "    accuracy_list_support_vector.append(sv_model.score(x_test,y_test))\n",
    "    accuracy_list_decision_tree.append(dt_model.score(x_test,y_test))\n",
    "\n",
    "accuracies=(accuracy_list_K_nearest_neighbor,\n",
    "    accuracy_list_naive_bayes,\n",
    "    accuracy_list_support_vector,\n",
    "    accuracy_list_decision_tree)\n",
    "\n",
    "print(f' accuracy for k-nn is: {np.mean(accuracy_list_K_nearest_neighbor)}')\n",
    "print(f' accuracy for support vectors is: {np.mean(accuracy_list_support_vector)}')\n",
    "print(f' accuracy for naive bayes is: {np.mean(accuracy_list_naive_bayes)}')\n",
    "print(f' accuracy for decision trees is: {np.mean(accuracy_list_decision_tree)}')\n",
    "print(f' mean accuracy is: {np.mean([np.mean(x) for x in accuracies])}')\n",
    "print(f' best accuracy is: {max([np.mean(x) for x in accuracies])}')"
   ]
  },
  {
   "cell_type": "code",
   "execution_count": 474,
   "metadata": {
    "pycharm": {
     "name": "#%%\n"
    }
   },
   "outputs": [
    {
     "data": {
      "text/plain": "<Figure size 640x480 with 1 Axes>",
      "image/png": "[encoded data removed]"
     },
     "metadata": {},
     "output_type": "display_data"
    }
   ],
   "source": [
    "variables=[['Start time in second'],\n",
    " ['End time in second'],\n",
    " ['Time in bed'],\n",
    " ['Activity (steps)'],\n",
    " ['Ate late'],\n",
    " ['Worked out'],\n",
    " ['Drank coffee'],\n",
    " ['Drank tea'],\n",
    " ['Stressful day'],\n",
    " ['Day of week']]\n",
    "\n",
    "# accuracies\n",
    "models=['knn','gnb','scv','dtc']\n",
    "# boxplot algorithm comparison\n",
    "fig = plt.figure()\n",
    "fig.suptitle('Model Comparison, before tuning')\n",
    "ax = fig.add_subplot(111)\n",
    "plt.boxplot(accuracies)\n",
    "ax.set_xticklabels(models)\n",
    "plt.show()"
   ]
  },
  {
   "cell_type": "markdown",
   "metadata": {
    "pycharm": {
     "name": "#%% md\n"
    }
   },
   "source": [
    "## Hyperparameterization"
   ]
  },
  {
   "cell_type": "code",
   "execution_count": 475,
   "metadata": {
    "pycharm": {
     "name": "#%%\n"
    }
   },
   "outputs": [
    {
     "name": "stdout",
     "output_type": "stream",
     "text": [
      "{'splitter': 'best', 'min_samples_leaf': 1, 'criterion': 'entropy'} 0.5443037974683544\n",
      "{'criterion': 'gini', 'min_samples_leaf': 2, 'splitter': 'random'} 0.5864978902953587\n"
     ]
    }
   ],
   "source": [
    "#decision trees\n",
    "\n",
    "grid = {'criterion': ['gini', 'entropy', 'log_loss'],'splitter': [\"best\",\"random\"],'min_samples_leaf':[1,2,3,4,5]}\n",
    "classifier=DecisionTreeClassifier(random_state=42,class_weight='balanced')\n",
    "grid_search = GridSearchCV(estimator=classifier, param_grid=grid, cv= 5)\n",
    "grid_search.fit(x_train, y_train)\n",
    "random_search = RandomizedSearchCV(estimator = classifier, param_distributions = grid, n_iter = 5, cv = 5, n_jobs = -1, verbose = 0)\n",
    "random_search.fit(x_train,y_train)\n",
    "\n",
    "print(random_search.best_params_,random_search.score(x_test,y_test))\n",
    "print(grid_search.best_params_,grid_search.score(x_test,y_test))"
   ]
  },
  {
   "cell_type": "code",
   "execution_count": null,
   "metadata": {
    "pycharm": {
     "name": "#%%\n",
     "is_executing": true
    }
   },
   "outputs": [],
   "source": [
    "#knn, commented bc takes time\n",
    "grid = {'n_neighbors' : np.random.randint(1,50,10),\n",
    "         'weights':['uniform','distance'],\n",
    "         'algorithm':['auto','ball_tree','kd_tree','brute'],\n",
    "         'leaf_size':[int(x) for x in np.linspace(start = 0, stop = 300, num=10)],\n",
    "         'p':[1,2,3,4,5]}\n",
    "classifier = KNeighborsClassifier()\n",
    "grid_search = GridSearchCV(estimator=classifier, param_grid=grid, cv= 5)\n",
    "grid_search.fit(x_train, y_train)\n",
    "random_search = RandomizedSearchCV(estimator = classifier, param_distributions = grid, n_iter = 5, cv = 5, n_jobs = -1, verbose = 0)\n",
    "random_search.fit(x_train,y_train)\n",
    "\n",
    "print(random_search.best_params_,random_search.score(x_test,y_test)) # why is this 0.78 but next cell is 0.04\n",
    "print(grid_search.best_params_,grid_search.score(x_test,y_test)) # why so different? grid same always\n",
    "\n",
    "# \"\"\"{'weights': 'distance', 'p': 4, 'n_neighbors': 30, 'leaf_size': 133, 'algorithm': 'ball_tree'} 0.8532423208191127\n",
    "# {'algorithm': 'auto', 'leaf_size': 33, 'n_neighbors': 14, 'p': 1, 'weights': 'uniform'} 0.8532423208191127\"\"\"\n"
   ]
  },
  {
   "cell_type": "code",
   "execution_count": null,
   "metadata": {
    "pycharm": {
     "name": "#%%\n",
     "is_executing": true
    }
   },
   "outputs": [],
   "source": [
    "# SVC\n",
    "# Error \"X should be a square kernel matrix\"? : ## Ok precomputed was the problem\n",
    "grid = {'kernel': ['linear', 'poly', 'rbf', 'sigmoid'],'gamma': ['scale', 'auto'],'degree':[1,2,3,4]} # not inclded precomputed\n",
    "classifier=SVC(class_weight='balanced')\n",
    "grid_search = GridSearchCV(estimator=classifier, param_grid=grid, cv= 5)\n",
    "grid_search.fit(x_train, y_train)\n",
    "random_search = RandomizedSearchCV(estimator = classifier, param_distributions = grid, n_iter = 5, cv = 5, n_jobs = -1, verbose = 0)\n",
    "random_search.fit(x_train,y_train)\n",
    "\n",
    "print(random_search.best_params_,random_search.score(x_test,y_test)) # why is this 0.78 but next cell is 0.04\n",
    "print(grid_search.best_params_,grid_search.score(x_test,y_test)) # why so different? grid same always\n",
    "\n",
    "# \"\"\"{'kernel': 'linear', 'gamma': 'auto', 'degree': 3} 0.8498293515358362\n",
    "# {'degree': 1, 'gamma': 'scale', 'kernel': 'linear'} 0.8498293515358362\"\"\""
   ]
  },
  {
   "cell_type": "code",
   "execution_count": null,
   "metadata": {
    "pycharm": {
     "name": "#%%\n",
     "is_executing": true
    }
   },
   "outputs": [],
   "source": [
    "# #NB\n",
    "\n",
    "weigths=len(y_train) / (4 * np.bincount(y_train))#weigths if the classes. We use weigths because the data is not balanced\n",
    "sample_weight=y_train.map(dict(zip([0,1,2,3], weigths)))\n",
    "\n",
    "grid = {'var_smoothing': np.logspace(0,-9, num=100)}\n",
    "classifier = GaussianNB()\n",
    "grid_search = GridSearchCV(estimator=classifier, param_grid=grid, cv= 5)\n",
    "grid_search.fit(x_train, y_train,sample_weight=sample_weight)\n",
    "random_search = RandomizedSearchCV(estimator = classifier, param_distributions = grid, n_iter = 5, cv = 5, n_jobs = -1, verbose = 0)\n",
    "random_search.fit(x_train,y_train)\n",
    "\n",
    "print(random_search.best_params_,random_search.score(x_test,y_test)) # why is this 0.78 but next cell is 0.04\n",
    "print(grid_search.best_params_,grid_search.score(x_test,y_test)) # why so different? grid same always\n",
    "\n",
    "# \"\"\"{'var_smoothing': 1.0} 0.8498293515358362\n",
    "# {'var_smoothing': 1.0} 0.8498293515358362\"\"\""
   ]
  },
  {
   "cell_type": "markdown",
   "metadata": {
    "pycharm": {
     "name": "#%% md\n"
    }
   },
   "source": [
    "## CV, after tuning"
   ]
  },
  {
   "cell_type": "code",
   "execution_count": null,
   "metadata": {
    "pycharm": {
     "name": "#%%\n",
     "is_executing": true
    }
   },
   "outputs": [],
   "source": [
    "accuracy_list_K_nearest_neighbor =[]\n",
    "accuracy_list_naive_bayes =[]\n",
    "accuracy_list_support_vector =[]\n",
    "accuracy_list_decision_tree =[]"
   ]
  },
  {
   "cell_type": "code",
   "execution_count": null,
   "metadata": {
    "pycharm": {
     "name": "#%%\n",
     "is_executing": true
    }
   },
   "outputs": [],
   "source": [
    "\n",
    "for i in range(100): #Change after doing on real data \n",
    "    x_train,x_test, y_train, y_test = train_test_split(X, y, test_size=np.random.uniform(low=0.2,high=0.35))\n",
    "    weigths=len(y_train) / (4 * np.bincount(y_train))#weigths if the classes. We use weigths because the data is not balanced\n",
    "    sample_weight=y_train.map(dict(zip([0,1,2,3], weigths)))\n",
    "    \"\"\"Fitting each model\"\"\"\n",
    "    knn_model = KNeighborsClassifier(weights='uniform', p=1, n_neighbors= 29,\n",
    "                                     leaf_size=33, algorithm='auto').fit(x_train, y_train)\n",
    "    nb_model=GaussianNB(var_smoothing= 1.0,).fit(x_train, y_train,sample_weight)\n",
    "    sv_model = SVC(degree=1, gamma='auto', kernel= 'rbf',class_weight='balanced').fit(x_train, y_train)\n",
    "    dt_model=DecisionTreeClassifier(criterion='entropy', min_samples_leaf= 1, splitter='best',class_weight='balanced').fit(x_train, y_train)\n",
    "\n",
    "    \"\"\"Appending accuracy\"\"\"\n",
    "    accuracy_list_K_nearest_neighbor.append(knn_model.score(x_test,y_test))\n",
    "    accuracy_list_naive_bayes.append(nb_model.score(x_test,y_test))\n",
    "    accuracy_list_support_vector.append(sv_model.score(x_test,y_test))\n",
    "    accuracy_list_decision_tree.append(dt_model.score(x_test,y_test))\n",
    "accuracies=(accuracy_list_K_nearest_neighbor,\n",
    "            accuracy_list_naive_bayes,\n",
    "            accuracy_list_support_vector,\n",
    "            accuracy_list_decision_tree)\n",
    "\n",
    "print(f' accuracy for k-nn is: {np.mean(accuracy_list_K_nearest_neighbor)}')\n",
    "print(f' accuracy for support vectors is: {np.mean(accuracy_list_support_vector)}')\n",
    "print(f' accuracy for naive bayes is: {np.mean(accuracy_list_naive_bayes)}')\n",
    "print(f' accuracy for decision trees is: {np.mean(accuracy_list_decision_tree)}')\n",
    "print(f' mean accuracy is: {np.mean([np.mean(x) for x in accuracies])}')\n",
    "print(f' best accuracy is: {max([np.mean(x) for x in accuracies])}')"
   ]
  },
  {
   "cell_type": "code",
   "execution_count": null,
   "metadata": {
    "pycharm": {
     "name": "#%%\n",
     "is_executing": true
    }
   },
   "outputs": [],
   "source": [
    "variables=[['Start time in second'],\n",
    " ['End time in second'],\n",
    " ['Time in bed'],\n",
    " ['Activity (steps)'],\n",
    " ['Ate late'],\n",
    " ['Worked out'],\n",
    " ['Drank coffee'],\n",
    " ['Drank tea'],\n",
    " ['Stressful day'],\n",
    " ['Day of week']]\n",
    "\n",
    "# accuracies\n",
    "models=['knn','gnb','scv','dtc']\n",
    "# boxplot algorithm comparison\n",
    "fig = plt.figure()\n",
    "fig.suptitle('Model Comparison, after tuning')\n",
    "ax = fig.add_subplot(111)\n",
    "plt.boxplot(accuracies)\n",
    "ax.set_xticklabels(models)\n",
    "plt.show()"
   ]
  },
  {
   "cell_type": "code",
   "execution_count": null,
   "metadata": {
    "pycharm": {
     "name": "#%%\n",
     "is_executing": true
    }
   },
   "outputs": [],
   "source": [
    "X_train, X_test, y_train, y_test = train_test_split(X,y, test_size=0.33, random_state=42)\n",
    "\n",
    "print(\"Distribution of data within bins:\\n\",bin_counts)\n",
    "\n",
    "## classifiers, tuned. Already run above\n",
    "\n",
    "# predicting for the test data\n",
    "y_pred_svc = sv_model.predict(X_test)\n",
    "y_pred_dtc = dt_model.predict(X_test)\n",
    "y_pred_gnb = nb_model.predict(X_test)\n",
    "y_pred_knn = knn_model.predict(X_test)\n",
    "\n",
    "\n",
    "y_test = y_test.tolist()\n",
    "\n",
    "predlist=[y_pred_svc, y_pred_dtc, y_pred_gnb, y_pred_knn]\n",
    "clf_lst=['scv','dtc','gnb','knn']\n",
    "target_names = {\n",
    "    0:\"Between 0 and 25\",\n",
    "    1:\"Between 26 and 50\",\n",
    "    2:\"Between 51 and 75\",\n",
    "    3:\"Between 76 and 100\"\n",
    "}\n",
    "for i, pred in enumerate(predlist):\n",
    "    cm = confusion_matrix(y_test, pred)\n",
    "    #print(cm)\n",
    "    # Normalising\n",
    "    cmn = cm.astype('float') / cm.sum(axis=1)[:, np.newaxis]\n",
    "    fig, ax = plt.subplots(figsize=(10,10))\n",
    "    sns.heatmap(cmn, annot=True, fmt='.2f',xticklabels=target_names, yticklabels=target_names)\n",
    "    plt.ylabel('True')\n",
    "    plt.title(f'{clf_lst[i]}')\n",
    "    plt.xlabel('Predicted')\n",
    "    plt.show(block=False)\n"
   ]
  },
  {
   "cell_type": "markdown",
   "metadata": {
    "pycharm": {
     "name": "#%% md\n"
    }
   },
   "source": [
    "## Variable importance"
   ]
  },
  {
   "cell_type": "code",
   "execution_count": null,
   "metadata": {
    "pycharm": {
     "name": "#%%\n",
     "is_executing": true
    }
   },
   "outputs": [],
   "source": [
    "#np.random.seed(42) \n",
    "\n",
    "X_train,X_test, y_train, y_test = train_test_split(scaled_features_df, y, test_size=np.random.uniform(low=0.2,high=0.35))\n",
    "\n",
    "\n",
    "test_variables=[['Time in bed'],['Start time in second'],['End time in second'],['Activity (steps)'], ['Drank tea'],['Drank coffee'], ['Worked out'], ['Ate late'], ['Stressful day']]\n",
    "accuracy_list_support_vector_exl=[]\n",
    "accuracy_list_support_vector_incl=[]\n",
    "\n",
    "sv_model_org = SVC(degree=1, gamma='scale', kernel= 'rbf',class_weight='balanced').fit(X_train, y_train)\n",
    "org_score=sv_model_org.score(X_test,y_test)\n",
    "\n",
    "for i in test_variables:\n",
    "    x_train=X_train.drop(columns=i)\n",
    "    x_test=X_test.drop(columns=i)    \n",
    "    \n",
    "    sv_model_e = SVC(degree=1, gamma='scale', kernel= 'rbf',class_weight='balanced').fit(x_train, y_train)\n",
    "    accuracy_list_support_vector_exl.append(sv_model_e.score(x_test,y_test))\n",
    "\n",
    "for i in test_variables:\n",
    "    x_train=X_train[i]\n",
    "    x_test=X_test[i]\n",
    "\n",
    "    sv_model_i = SVC(degree=1, gamma='scale', kernel= 'rbf',class_weight='balanced').fit(x_train, y_train)\n",
    "    accuracy_list_support_vector_incl.append(sv_model_i.score(x_test,y_test))\n",
    "\n",
    "print(f\"Original accuracy is {round(org_score,3)}\")\n",
    "for i,var in enumerate(test_variables):\n",
    "    print(f'Variable \"{var[0]}\", accuracy when excluding is {round(accuracy_list_support_vector_exl[i],3)} and when excluding all else it is {round(accuracy_list_support_vector_incl[i],3)} ')\n",
    "\n",
    "print(f\"Original accuracy is {round(org_score,3)}\")\n",
    "for i,var in enumerate(test_variables):\n",
    "    print(f'\"{var[0]}\" & {round(accuracy_list_support_vector_exl[i],3)} & {round(accuracy_list_support_vector_incl[i],3)} \\\\\\ ')\n",
    "\n",
    "print([x[0] for x in [['Time in bed'],['Start time in second'],['End time in second'],['Activity (steps)']]])"
   ]
  },
  {
   "cell_type": "code",
   "execution_count": null,
   "metadata": {
    "pycharm": {
     "name": "#%%\n",
     "is_executing": true
    }
   },
   "outputs": [],
   "source": [
    "import statistics\n",
    "\n",
    "accuracy_list_exl=[]\n",
    "accuracy_list_incl=[]\n",
    "og_acc=[]\n",
    "for _ in range(100):\n",
    "    X_train,X_test, y_train, y_test = train_test_split(scaled_features_df, y, test_size=np.random.uniform(low=0.2,high=0.35))\n",
    "\n",
    "\n",
    "    test_variables=[['Time in bed'],['Start time in second'],['End time in second'],['Activity (steps)'], ['Drank tea'],['Drank coffee'], ['Worked out'], ['Ate late'], ['Stressful day']]\n",
    "    accuracy_list_support_vector_exl=[]\n",
    "    accuracy_list_support_vector_incl=[]\n",
    "\n",
    "    sv_model_org = SVC(degree=1, gamma='scale', kernel= 'rbf',class_weight='balanced').fit(X_train, y_train)\n",
    "    org_score=sv_model_org.score(X_test,y_test)\n",
    "    og_acc.append(org_score)\n",
    "\n",
    "    for i in test_variables:\n",
    "        x_train=X_train.drop(columns=i)\n",
    "        x_test=X_test.drop(columns=i)    \n",
    "\n",
    "        sv_model_e = SVC(degree=1, gamma='scale', kernel= 'rbf',class_weight='balanced').fit(x_train, y_train)\n",
    "        accuracy_list_support_vector_exl.append(sv_model_e.score(x_test,y_test))\n",
    "\n",
    "    for i in test_variables:\n",
    "        x_train=X_train[i]\n",
    "        x_test=X_test[i]\n",
    "\n",
    "        sv_model_i = SVC(degree=1, gamma='scale', kernel= 'rbf',class_weight='balanced').fit(x_train, y_train)\n",
    "        accuracy_list_support_vector_incl.append(sv_model_i.score(x_test,y_test))\n",
    "    \n",
    "    accuracy_list_incl.append(accuracy_list_support_vector_incl)\n",
    "    accuracy_list_exl.append(accuracy_list_support_vector_exl)\n",
    "        \n",
    "\n",
    "print(f\"Original accuracy is {round(statistics.mean(og_acc),3)}, with a variance of {round(statistics.variance([item for item in og_acc]),3)}\")\n",
    "for i,var in enumerate(test_variables):\n",
    "    print(f'\"{var[0]}\" & {round(statistics.mean([item[i] for item in accuracy_list_exl]),3)} & {round(statistics.mean([item[i] for item in accuracy_list_incl]),3)} &{round(statistics.variance([item[i] for item in accuracy_list_exl]),4)} &{round(statistics.variance([item[i] for item in accuracy_list_incl]),4)}\\\\\\ ')\n"
   ]
  },
  {
   "cell_type": "code",
   "execution_count": null,
   "metadata": {
    "pycharm": {
     "name": "#%%\n",
     "is_executing": true
    }
   },
   "outputs": [],
   "source": [
    "import statistics\n",
    "\n",
    "test_variables=variables #from the comparison, all variables \n",
    "\n",
    "accuracy_list_exl=[]\n",
    "accuracy_list_incl=[]\n",
    "og_acc=[]\n",
    "for _ in range(100):\n",
    "    X_train,X_test, y_train, y_test = train_test_split(scaled_features_df, y, test_size=np.random.uniform(low=0.2,high=0.35))\n",
    "    accuracy_list_support_vector_exl=[]\n",
    "    accuracy_list_support_vector_incl=[]\n",
    "\n",
    "    sv_model_org = SVC(degree=1, gamma='scale', kernel= 'rbf',class_weight='balanced').fit(X_train, y_train)\n",
    "    org_score=sv_model_org.score(X_test,y_test)\n",
    "    og_acc.append(org_score)\n",
    "\n",
    "    for i in test_variables:\n",
    "        x_train=X_train.drop(columns=i)\n",
    "        x_test=X_test.drop(columns=i)    \n",
    "\n",
    "        sv_model_e = SVC(degree=1, gamma='scale', kernel= 'rbf',class_weight='balanced').fit(x_train, y_train)\n",
    "        accuracy_list_support_vector_exl.append(sv_model_e.score(x_test,y_test))\n",
    "\n",
    "    for i in test_variables:\n",
    "        x_train=X_train[i]\n",
    "        x_test=X_test[i]\n",
    "\n",
    "        sv_model_i = SVC(degree=1, gamma='scale', kernel= 'rbf',class_weight='balanced').fit(x_train, y_train)\n",
    "        accuracy_list_support_vector_incl.append(sv_model_i.score(x_test,y_test))\n",
    "    \n",
    "    accuracy_list_incl.append(accuracy_list_support_vector_incl)\n",
    "    accuracy_list_exl.append(accuracy_list_support_vector_exl)\n",
    "        \n",
    "\n",
    "print(f\"Original accuracy is {round(statistics.mean(og_acc),3)}, with a variance of {round(statistics.variance([item for item in og_acc]),3)}\")\n",
    "for i,var in enumerate(test_variables):\n",
    "    print(f'\"{var[0]}\" & {round(statistics.mean([item[i] for item in accuracy_list_exl]),3)} & {round(statistics.mean([item[i] for item in accuracy_list_incl]),3)} &{round(statistics.variance([item[i] for item in accuracy_list_exl]),4)} &{round(statistics.variance([item[i] for item in accuracy_list_incl]),4)}\\\\\\ ')\n"
   ]
  },
  {
   "cell_type": "code",
   "execution_count": null,
   "metadata": {
    "pycharm": {
     "name": "#%%\n",
     "is_executing": true
    }
   },
   "outputs": [],
   "source": []
  }
 ],
 "metadata": {
  "kernelspec": {
   "display_name": "Python 3 (ipykernel)",
   "language": "python",
   "name": "python3"
  },
  "language_info": {
   "codemirror_mode": {
    "name": "ipython",
    "version": 3
   },
   "file_extension": ".py",
   "mimetype": "text/x-python",
   "name": "python",
   "nbconvert_exporter": "python",
   "pygments_lexer": "ipython3",
   "version": "3.9.7"
  },
  "vscode": {
   "interpreter": {
    "hash": "6bb320ed30921271c547ce806421a1d63fc8bdcb5afcfb5a86788136de7e5f34"
   }
  }
 },
 "nbformat": 4,
 "nbformat_minor": 1
}